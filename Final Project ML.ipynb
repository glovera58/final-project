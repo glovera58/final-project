{
 "cells": [
  {
   "cell_type": "markdown",
   "metadata": {},
   "source": [
    "# Alex Glover Final Project ML"
   ]
  },
  {
   "cell_type": "markdown",
   "metadata": {
    "id": "qQ7rRhIi2CDi"
   },
   "source": [
    "- Libraries are important and we call them to perform the different actions on our data and for training the models.\n",
    "- Its a first step to load the library to perform the specific task"
   ]
  },
  {
   "cell_type": "code",
   "execution_count": 82,
   "metadata": {
    "id": "biwNVBtM2CDj"
   },
   "outputs": [],
   "source": [
    "import numpy as np \n",
    "import pandas as pd \n",
    "import seaborn as sns \n",
    "import matplotlib.pyplot as plt\n",
    "#from prettytable import PrettyTable\n",
    "from sklearn.metrics import roc_curve, auc\n",
    "from sklearn.model_selection import train_test_split\n",
    "from sklearn.ensemble import RandomForestClassifier\n",
    "from sklearn.preprocessing import MinMaxScaler\n",
    "from sklearn.decomposition import PCA\n",
    "from sklearn.manifold import TSNE\n",
    "from sklearn.discriminant_analysis import LinearDiscriminantAnalysis\n",
    "from sklearn.metrics import f1_score\n",
    "\n",
    "import warnings\n",
    "warnings.filterwarnings(\"ignore\")"
   ]
  },
  {
   "cell_type": "code",
   "execution_count": 40,
   "metadata": {},
   "outputs": [],
   "source": [
    "data = pd.read_csv(\"dataset.csv\")\n",
    "aa=data[data['Class']==1]\n",
    "bb=data[data['Class']==0]\n",
    "bb=bb.sample(len(aa))\n",
    "data=pd.concat([aa,bb])"
   ]
  },
  {
   "cell_type": "markdown",
   "metadata": {
    "papermill": {
     "duration": 0.065466,
     "end_time": "2020-11-30T07:38:51.578836",
     "exception": false,
     "start_time": "2020-11-30T07:38:51.513370",
     "status": "completed"
    },
    "tags": []
   },
   "source": [
    "#Exploratory data analysis "
   ]
  },
  {
   "cell_type": "markdown",
   "metadata": {},
   "source": [
    "#### Five top records of data"
   ]
  },
  {
   "cell_type": "code",
   "execution_count": 41,
   "metadata": {},
   "outputs": [
    {
     "data": {
      "text/html": [
       "<div>\n",
       "<style scoped>\n",
       "    .dataframe tbody tr th:only-of-type {\n",
       "        vertical-align: middle;\n",
       "    }\n",
       "\n",
       "    .dataframe tbody tr th {\n",
       "        vertical-align: top;\n",
       "    }\n",
       "\n",
       "    .dataframe thead th {\n",
       "        text-align: right;\n",
       "    }\n",
       "</style>\n",
       "<table border=\"1\" class=\"dataframe\">\n",
       "  <thead>\n",
       "    <tr style=\"text-align: right;\">\n",
       "      <th></th>\n",
       "      <th>Time</th>\n",
       "      <th>V1</th>\n",
       "      <th>V2</th>\n",
       "      <th>V3</th>\n",
       "      <th>V4</th>\n",
       "      <th>V5</th>\n",
       "      <th>V6</th>\n",
       "      <th>V7</th>\n",
       "      <th>V8</th>\n",
       "      <th>V9</th>\n",
       "      <th>...</th>\n",
       "      <th>V21</th>\n",
       "      <th>V22</th>\n",
       "      <th>V23</th>\n",
       "      <th>V24</th>\n",
       "      <th>V25</th>\n",
       "      <th>V26</th>\n",
       "      <th>V27</th>\n",
       "      <th>V28</th>\n",
       "      <th>Amount</th>\n",
       "      <th>Class</th>\n",
       "    </tr>\n",
       "  </thead>\n",
       "  <tbody>\n",
       "    <tr>\n",
       "      <th>541</th>\n",
       "      <td>406</td>\n",
       "      <td>-2.312227</td>\n",
       "      <td>1.951992</td>\n",
       "      <td>-1.609851</td>\n",
       "      <td>3.997906</td>\n",
       "      <td>-0.522188</td>\n",
       "      <td>-1.426545</td>\n",
       "      <td>-2.537387</td>\n",
       "      <td>1.391657</td>\n",
       "      <td>-2.770089</td>\n",
       "      <td>...</td>\n",
       "      <td>0.517232</td>\n",
       "      <td>-0.035049</td>\n",
       "      <td>-0.465211</td>\n",
       "      <td>0.320198</td>\n",
       "      <td>0.044519</td>\n",
       "      <td>0.177840</td>\n",
       "      <td>0.261145</td>\n",
       "      <td>-0.143276</td>\n",
       "      <td>0.00</td>\n",
       "      <td>1</td>\n",
       "    </tr>\n",
       "    <tr>\n",
       "      <th>623</th>\n",
       "      <td>472</td>\n",
       "      <td>-3.043541</td>\n",
       "      <td>-3.157307</td>\n",
       "      <td>1.088463</td>\n",
       "      <td>2.288644</td>\n",
       "      <td>1.359805</td>\n",
       "      <td>-1.064823</td>\n",
       "      <td>0.325574</td>\n",
       "      <td>-0.067794</td>\n",
       "      <td>-0.270953</td>\n",
       "      <td>...</td>\n",
       "      <td>0.661696</td>\n",
       "      <td>0.435477</td>\n",
       "      <td>1.375966</td>\n",
       "      <td>-0.293803</td>\n",
       "      <td>0.279798</td>\n",
       "      <td>-0.145362</td>\n",
       "      <td>-0.252773</td>\n",
       "      <td>0.035764</td>\n",
       "      <td>529.00</td>\n",
       "      <td>1</td>\n",
       "    </tr>\n",
       "    <tr>\n",
       "      <th>4920</th>\n",
       "      <td>4462</td>\n",
       "      <td>-2.303350</td>\n",
       "      <td>1.759247</td>\n",
       "      <td>-0.359745</td>\n",
       "      <td>2.330243</td>\n",
       "      <td>-0.821628</td>\n",
       "      <td>-0.075788</td>\n",
       "      <td>0.562320</td>\n",
       "      <td>-0.399147</td>\n",
       "      <td>-0.238253</td>\n",
       "      <td>...</td>\n",
       "      <td>-0.294166</td>\n",
       "      <td>-0.932391</td>\n",
       "      <td>0.172726</td>\n",
       "      <td>-0.087330</td>\n",
       "      <td>-0.156114</td>\n",
       "      <td>-0.542628</td>\n",
       "      <td>0.039566</td>\n",
       "      <td>-0.153029</td>\n",
       "      <td>239.93</td>\n",
       "      <td>1</td>\n",
       "    </tr>\n",
       "    <tr>\n",
       "      <th>6108</th>\n",
       "      <td>6986</td>\n",
       "      <td>-4.397974</td>\n",
       "      <td>1.358367</td>\n",
       "      <td>-2.592844</td>\n",
       "      <td>2.679787</td>\n",
       "      <td>-1.128131</td>\n",
       "      <td>-1.706536</td>\n",
       "      <td>-3.496197</td>\n",
       "      <td>-0.248778</td>\n",
       "      <td>-0.247768</td>\n",
       "      <td>...</td>\n",
       "      <td>0.573574</td>\n",
       "      <td>0.176968</td>\n",
       "      <td>-0.436207</td>\n",
       "      <td>-0.053502</td>\n",
       "      <td>0.252405</td>\n",
       "      <td>-0.657488</td>\n",
       "      <td>-0.827136</td>\n",
       "      <td>0.849573</td>\n",
       "      <td>59.00</td>\n",
       "      <td>1</td>\n",
       "    </tr>\n",
       "    <tr>\n",
       "      <th>6329</th>\n",
       "      <td>7519</td>\n",
       "      <td>1.234235</td>\n",
       "      <td>3.019740</td>\n",
       "      <td>-4.304597</td>\n",
       "      <td>4.732795</td>\n",
       "      <td>3.624201</td>\n",
       "      <td>-1.357746</td>\n",
       "      <td>1.713445</td>\n",
       "      <td>-0.496358</td>\n",
       "      <td>-1.282858</td>\n",
       "      <td>...</td>\n",
       "      <td>-0.379068</td>\n",
       "      <td>-0.704181</td>\n",
       "      <td>-0.656805</td>\n",
       "      <td>-1.632653</td>\n",
       "      <td>1.488901</td>\n",
       "      <td>0.566797</td>\n",
       "      <td>-0.010016</td>\n",
       "      <td>0.146793</td>\n",
       "      <td>1.00</td>\n",
       "      <td>1</td>\n",
       "    </tr>\n",
       "  </tbody>\n",
       "</table>\n",
       "<p>5 rows × 31 columns</p>\n",
       "</div>"
      ],
      "text/plain": [
       "      Time        V1        V2        V3        V4        V5        V6  \\\n",
       "541    406 -2.312227  1.951992 -1.609851  3.997906 -0.522188 -1.426545   \n",
       "623    472 -3.043541 -3.157307  1.088463  2.288644  1.359805 -1.064823   \n",
       "4920  4462 -2.303350  1.759247 -0.359745  2.330243 -0.821628 -0.075788   \n",
       "6108  6986 -4.397974  1.358367 -2.592844  2.679787 -1.128131 -1.706536   \n",
       "6329  7519  1.234235  3.019740 -4.304597  4.732795  3.624201 -1.357746   \n",
       "\n",
       "            V7        V8        V9  ...       V21       V22       V23  \\\n",
       "541  -2.537387  1.391657 -2.770089  ...  0.517232 -0.035049 -0.465211   \n",
       "623   0.325574 -0.067794 -0.270953  ...  0.661696  0.435477  1.375966   \n",
       "4920  0.562320 -0.399147 -0.238253  ... -0.294166 -0.932391  0.172726   \n",
       "6108 -3.496197 -0.248778 -0.247768  ...  0.573574  0.176968 -0.436207   \n",
       "6329  1.713445 -0.496358 -1.282858  ... -0.379068 -0.704181 -0.656805   \n",
       "\n",
       "           V24       V25       V26       V27       V28  Amount  Class  \n",
       "541   0.320198  0.044519  0.177840  0.261145 -0.143276    0.00      1  \n",
       "623  -0.293803  0.279798 -0.145362 -0.252773  0.035764  529.00      1  \n",
       "4920 -0.087330 -0.156114 -0.542628  0.039566 -0.153029  239.93      1  \n",
       "6108 -0.053502  0.252405 -0.657488 -0.827136  0.849573   59.00      1  \n",
       "6329 -1.632653  1.488901  0.566797 -0.010016  0.146793    1.00      1  \n",
       "\n",
       "[5 rows x 31 columns]"
      ]
     },
     "execution_count": 41,
     "metadata": {},
     "output_type": "execute_result"
    }
   ],
   "source": [
    "data.head()"
   ]
  },
  {
   "cell_type": "markdown",
   "metadata": {},
   "source": [
    "#### Five last records of data"
   ]
  },
  {
   "cell_type": "code",
   "execution_count": 42,
   "metadata": {},
   "outputs": [
    {
     "data": {
      "text/html": [
       "<div>\n",
       "<style scoped>\n",
       "    .dataframe tbody tr th:only-of-type {\n",
       "        vertical-align: middle;\n",
       "    }\n",
       "\n",
       "    .dataframe tbody tr th {\n",
       "        vertical-align: top;\n",
       "    }\n",
       "\n",
       "    .dataframe thead th {\n",
       "        text-align: right;\n",
       "    }\n",
       "</style>\n",
       "<table border=\"1\" class=\"dataframe\">\n",
       "  <thead>\n",
       "    <tr style=\"text-align: right;\">\n",
       "      <th></th>\n",
       "      <th>Time</th>\n",
       "      <th>V1</th>\n",
       "      <th>V2</th>\n",
       "      <th>V3</th>\n",
       "      <th>V4</th>\n",
       "      <th>V5</th>\n",
       "      <th>V6</th>\n",
       "      <th>V7</th>\n",
       "      <th>V8</th>\n",
       "      <th>V9</th>\n",
       "      <th>...</th>\n",
       "      <th>V21</th>\n",
       "      <th>V22</th>\n",
       "      <th>V23</th>\n",
       "      <th>V24</th>\n",
       "      <th>V25</th>\n",
       "      <th>V26</th>\n",
       "      <th>V27</th>\n",
       "      <th>V28</th>\n",
       "      <th>Amount</th>\n",
       "      <th>Class</th>\n",
       "    </tr>\n",
       "  </thead>\n",
       "  <tbody>\n",
       "    <tr>\n",
       "      <th>31785</th>\n",
       "      <td>36516</td>\n",
       "      <td>1.149523</td>\n",
       "      <td>-0.711810</td>\n",
       "      <td>-0.198244</td>\n",
       "      <td>0.029826</td>\n",
       "      <td>1.279629</td>\n",
       "      <td>4.416378</td>\n",
       "      <td>-1.310352</td>\n",
       "      <td>1.190590</td>\n",
       "      <td>1.418352</td>\n",
       "      <td>...</td>\n",
       "      <td>-0.354967</td>\n",
       "      <td>-0.768897</td>\n",
       "      <td>-0.031456</td>\n",
       "      <td>1.057159</td>\n",
       "      <td>0.517714</td>\n",
       "      <td>0.313963</td>\n",
       "      <td>0.032215</td>\n",
       "      <td>0.021158</td>\n",
       "      <td>34.33</td>\n",
       "      <td>0</td>\n",
       "    </tr>\n",
       "    <tr>\n",
       "      <th>264328</th>\n",
       "      <td>161376</td>\n",
       "      <td>-0.011624</td>\n",
       "      <td>0.640413</td>\n",
       "      <td>0.868046</td>\n",
       "      <td>-0.505279</td>\n",
       "      <td>0.261938</td>\n",
       "      <td>0.223098</td>\n",
       "      <td>0.239049</td>\n",
       "      <td>0.150877</td>\n",
       "      <td>0.225142</td>\n",
       "      <td>...</td>\n",
       "      <td>0.069401</td>\n",
       "      <td>0.268024</td>\n",
       "      <td>0.261459</td>\n",
       "      <td>0.683742</td>\n",
       "      <td>-1.567901</td>\n",
       "      <td>-0.816674</td>\n",
       "      <td>0.185781</td>\n",
       "      <td>0.283021</td>\n",
       "      <td>2.49</td>\n",
       "      <td>0</td>\n",
       "    </tr>\n",
       "    <tr>\n",
       "      <th>175557</th>\n",
       "      <td>122388</td>\n",
       "      <td>1.925515</td>\n",
       "      <td>0.301887</td>\n",
       "      <td>-0.561146</td>\n",
       "      <td>3.678203</td>\n",
       "      <td>0.615088</td>\n",
       "      <td>1.134870</td>\n",
       "      <td>-0.252903</td>\n",
       "      <td>0.191704</td>\n",
       "      <td>-0.534900</td>\n",
       "      <td>...</td>\n",
       "      <td>0.071172</td>\n",
       "      <td>0.503636</td>\n",
       "      <td>-0.072918</td>\n",
       "      <td>-1.072191</td>\n",
       "      <td>0.241449</td>\n",
       "      <td>0.179955</td>\n",
       "      <td>-0.003328</td>\n",
       "      <td>-0.066880</td>\n",
       "      <td>0.00</td>\n",
       "      <td>0</td>\n",
       "    </tr>\n",
       "    <tr>\n",
       "      <th>213109</th>\n",
       "      <td>139114</td>\n",
       "      <td>-0.063933</td>\n",
       "      <td>0.857416</td>\n",
       "      <td>-0.196125</td>\n",
       "      <td>-0.485057</td>\n",
       "      <td>0.051237</td>\n",
       "      <td>-0.297995</td>\n",
       "      <td>-0.104851</td>\n",
       "      <td>0.639229</td>\n",
       "      <td>0.028363</td>\n",
       "      <td>...</td>\n",
       "      <td>-0.119473</td>\n",
       "      <td>-0.505052</td>\n",
       "      <td>0.399981</td>\n",
       "      <td>0.611121</td>\n",
       "      <td>-1.414712</td>\n",
       "      <td>-0.104032</td>\n",
       "      <td>-0.011414</td>\n",
       "      <td>0.074380</td>\n",
       "      <td>10.90</td>\n",
       "      <td>0</td>\n",
       "    </tr>\n",
       "    <tr>\n",
       "      <th>68049</th>\n",
       "      <td>52807</td>\n",
       "      <td>-0.713297</td>\n",
       "      <td>-0.014113</td>\n",
       "      <td>2.033992</td>\n",
       "      <td>-1.407218</td>\n",
       "      <td>-0.659189</td>\n",
       "      <td>-0.617349</td>\n",
       "      <td>0.249537</td>\n",
       "      <td>-0.025712</td>\n",
       "      <td>-0.977895</td>\n",
       "      <td>...</td>\n",
       "      <td>-0.408139</td>\n",
       "      <td>-0.652937</td>\n",
       "      <td>-0.207914</td>\n",
       "      <td>0.428231</td>\n",
       "      <td>0.344296</td>\n",
       "      <td>1.001907</td>\n",
       "      <td>-0.035839</td>\n",
       "      <td>0.049712</td>\n",
       "      <td>31.10</td>\n",
       "      <td>0</td>\n",
       "    </tr>\n",
       "  </tbody>\n",
       "</table>\n",
       "<p>5 rows × 31 columns</p>\n",
       "</div>"
      ],
      "text/plain": [
       "          Time        V1        V2        V3        V4        V5        V6  \\\n",
       "31785    36516  1.149523 -0.711810 -0.198244  0.029826  1.279629  4.416378   \n",
       "264328  161376 -0.011624  0.640413  0.868046 -0.505279  0.261938  0.223098   \n",
       "175557  122388  1.925515  0.301887 -0.561146  3.678203  0.615088  1.134870   \n",
       "213109  139114 -0.063933  0.857416 -0.196125 -0.485057  0.051237 -0.297995   \n",
       "68049    52807 -0.713297 -0.014113  2.033992 -1.407218 -0.659189 -0.617349   \n",
       "\n",
       "              V7        V8        V9  ...       V21       V22       V23  \\\n",
       "31785  -1.310352  1.190590  1.418352  ... -0.354967 -0.768897 -0.031456   \n",
       "264328  0.239049  0.150877  0.225142  ...  0.069401  0.268024  0.261459   \n",
       "175557 -0.252903  0.191704 -0.534900  ...  0.071172  0.503636 -0.072918   \n",
       "213109 -0.104851  0.639229  0.028363  ... -0.119473 -0.505052  0.399981   \n",
       "68049   0.249537 -0.025712 -0.977895  ... -0.408139 -0.652937 -0.207914   \n",
       "\n",
       "             V24       V25       V26       V27       V28  Amount  Class  \n",
       "31785   1.057159  0.517714  0.313963  0.032215  0.021158   34.33      0  \n",
       "264328  0.683742 -1.567901 -0.816674  0.185781  0.283021    2.49      0  \n",
       "175557 -1.072191  0.241449  0.179955 -0.003328 -0.066880    0.00      0  \n",
       "213109  0.611121 -1.414712 -0.104032 -0.011414  0.074380   10.90      0  \n",
       "68049   0.428231  0.344296  1.001907 -0.035839  0.049712   31.10      0  \n",
       "\n",
       "[5 rows x 31 columns]"
      ]
     },
     "execution_count": 42,
     "metadata": {},
     "output_type": "execute_result"
    }
   ],
   "source": [
    "data.tail()"
   ]
  },
  {
   "cell_type": "markdown",
   "metadata": {},
   "source": [
    "#### Coloumns/features in data"
   ]
  },
  {
   "cell_type": "code",
   "execution_count": 43,
   "metadata": {},
   "outputs": [
    {
     "data": {
      "text/plain": [
       "Index(['Time', 'V1', 'V2', 'V3', 'V4', 'V5', 'V6', 'V7', 'V8', 'V9', 'V10',\n",
       "       'V11', 'V12', 'V13', 'V14', 'V15', 'V16', 'V17', 'V18', 'V19', 'V20',\n",
       "       'V21', 'V22', 'V23', 'V24', 'V25', 'V26', 'V27', 'V28', 'Amount',\n",
       "       'Class'],\n",
       "      dtype='object')"
      ]
     },
     "execution_count": 43,
     "metadata": {},
     "output_type": "execute_result"
    }
   ],
   "source": [
    "data.columns"
   ]
  },
  {
   "cell_type": "markdown",
   "metadata": {},
   "source": [
    "#### Length of data"
   ]
  },
  {
   "cell_type": "code",
   "execution_count": 44,
   "metadata": {},
   "outputs": [
    {
     "name": "stdout",
     "output_type": "stream",
     "text": [
      "lenght of data is 984\n"
     ]
    }
   ],
   "source": [
    "print('lenght of data is', len(data))"
   ]
  },
  {
   "cell_type": "markdown",
   "metadata": {},
   "source": [
    "#### Shape of data"
   ]
  },
  {
   "cell_type": "code",
   "execution_count": 45,
   "metadata": {},
   "outputs": [
    {
     "data": {
      "text/plain": [
       "(984, 31)"
      ]
     },
     "execution_count": 45,
     "metadata": {},
     "output_type": "execute_result"
    }
   ],
   "source": [
    "data.shape"
   ]
  },
  {
   "cell_type": "markdown",
   "metadata": {},
   "source": [
    "#### Data information"
   ]
  },
  {
   "cell_type": "code",
   "execution_count": 46,
   "metadata": {
    "scrolled": false
   },
   "outputs": [
    {
     "name": "stdout",
     "output_type": "stream",
     "text": [
      "<class 'pandas.core.frame.DataFrame'>\n",
      "Int64Index: 984 entries, 541 to 68049\n",
      "Data columns (total 31 columns):\n",
      " #   Column  Non-Null Count  Dtype  \n",
      "---  ------  --------------  -----  \n",
      " 0   Time    984 non-null    int64  \n",
      " 1   V1      984 non-null    float64\n",
      " 2   V2      984 non-null    float64\n",
      " 3   V3      984 non-null    float64\n",
      " 4   V4      984 non-null    float64\n",
      " 5   V5      984 non-null    float64\n",
      " 6   V6      984 non-null    float64\n",
      " 7   V7      984 non-null    float64\n",
      " 8   V8      984 non-null    float64\n",
      " 9   V9      984 non-null    float64\n",
      " 10  V10     984 non-null    float64\n",
      " 11  V11     984 non-null    float64\n",
      " 12  V12     984 non-null    float64\n",
      " 13  V13     984 non-null    float64\n",
      " 14  V14     984 non-null    float64\n",
      " 15  V15     984 non-null    float64\n",
      " 16  V16     984 non-null    float64\n",
      " 17  V17     984 non-null    float64\n",
      " 18  V18     984 non-null    float64\n",
      " 19  V19     984 non-null    float64\n",
      " 20  V20     984 non-null    float64\n",
      " 21  V21     984 non-null    float64\n",
      " 22  V22     984 non-null    float64\n",
      " 23  V23     984 non-null    float64\n",
      " 24  V24     984 non-null    float64\n",
      " 25  V25     984 non-null    float64\n",
      " 26  V26     984 non-null    float64\n",
      " 27  V27     984 non-null    float64\n",
      " 28  V28     984 non-null    float64\n",
      " 29  Amount  984 non-null    float64\n",
      " 30  Class   984 non-null    int64  \n",
      "dtypes: float64(29), int64(2)\n",
      "memory usage: 246.0 KB\n"
     ]
    }
   ],
   "source": [
    "data.info()"
   ]
  },
  {
   "cell_type": "markdown",
   "metadata": {},
   "source": [
    "#### Checking Null values / missing values"
   ]
  },
  {
   "cell_type": "code",
   "execution_count": 47,
   "metadata": {
    "scrolled": true
   },
   "outputs": [
    {
     "data": {
      "text/plain": [
       "0"
      ]
     },
     "execution_count": 47,
     "metadata": {},
     "output_type": "execute_result"
    }
   ],
   "source": [
    "np.sum(data.isnull().any(axis=1))"
   ]
  },
  {
   "cell_type": "markdown",
   "metadata": {
    "papermill": {
     "duration": 0.084502,
     "end_time": "2021-01-17T08:01:58.552833",
     "exception": false,
     "start_time": "2021-01-17T08:01:58.468331",
     "status": "completed"
    },
    "tags": []
   },
   "source": [
    "#### Counts of missing values in each column"
   ]
  },
  {
   "cell_type": "code",
   "execution_count": 48,
   "metadata": {
    "execution": {
     "iopub.execute_input": "2021-01-17T08:01:58.732761Z",
     "iopub.status.busy": "2021-01-17T08:01:58.732055Z",
     "iopub.status.idle": "2021-01-17T08:01:58.740352Z",
     "shell.execute_reply": "2021-01-17T08:01:58.740924Z"
    },
    "papermill": {
     "duration": 0.098959,
     "end_time": "2021-01-17T08:01:58.741074",
     "exception": false,
     "start_time": "2021-01-17T08:01:58.642115",
     "status": "completed"
    },
    "tags": []
   },
   "outputs": [
    {
     "data": {
      "text/plain": [
       "Time      0\n",
       "V1        0\n",
       "V2        0\n",
       "V3        0\n",
       "V4        0\n",
       "V5        0\n",
       "V6        0\n",
       "V7        0\n",
       "V8        0\n",
       "V9        0\n",
       "V10       0\n",
       "V11       0\n",
       "V12       0\n",
       "V13       0\n",
       "V14       0\n",
       "V15       0\n",
       "V16       0\n",
       "V17       0\n",
       "V18       0\n",
       "V19       0\n",
       "V20       0\n",
       "V21       0\n",
       "V22       0\n",
       "V23       0\n",
       "V24       0\n",
       "V25       0\n",
       "V26       0\n",
       "V27       0\n",
       "V28       0\n",
       "Amount    0\n",
       "Class     0\n",
       "dtype: int64"
      ]
     },
     "execution_count": 48,
     "metadata": {},
     "output_type": "execute_result"
    }
   ],
   "source": [
    "data.isnull().sum()"
   ]
  },
  {
   "cell_type": "markdown",
   "metadata": {},
   "source": [
    "#### Rows and columns in the dataset"
   ]
  },
  {
   "cell_type": "code",
   "execution_count": 49,
   "metadata": {},
   "outputs": [
    {
     "name": "stdout",
     "output_type": "stream",
     "text": [
      "Count of columns in the data is:   31\n"
     ]
    }
   ],
   "source": [
    "print('Count of columns in the data is:  ', len(data.columns))"
   ]
  },
  {
   "cell_type": "code",
   "execution_count": 50,
   "metadata": {},
   "outputs": [
    {
     "name": "stdout",
     "output_type": "stream",
     "text": [
      "Count of rows in the data is:   984\n"
     ]
    }
   ],
   "source": [
    "print('Count of rows in the data is:  ', len(data))"
   ]
  },
  {
   "cell_type": "markdown",
   "metadata": {},
   "source": [
    "#### Data Description"
   ]
  },
  {
   "cell_type": "code",
   "execution_count": 51,
   "metadata": {},
   "outputs": [
    {
     "data": {
      "text/html": [
       "<div>\n",
       "<style scoped>\n",
       "    .dataframe tbody tr th:only-of-type {\n",
       "        vertical-align: middle;\n",
       "    }\n",
       "\n",
       "    .dataframe tbody tr th {\n",
       "        vertical-align: top;\n",
       "    }\n",
       "\n",
       "    .dataframe thead th {\n",
       "        text-align: right;\n",
       "    }\n",
       "</style>\n",
       "<table border=\"1\" class=\"dataframe\">\n",
       "  <thead>\n",
       "    <tr style=\"text-align: right;\">\n",
       "      <th></th>\n",
       "      <th>Time</th>\n",
       "      <th>V1</th>\n",
       "      <th>V2</th>\n",
       "      <th>V3</th>\n",
       "      <th>V4</th>\n",
       "      <th>V5</th>\n",
       "      <th>V6</th>\n",
       "      <th>V7</th>\n",
       "      <th>V8</th>\n",
       "      <th>V9</th>\n",
       "      <th>...</th>\n",
       "      <th>V21</th>\n",
       "      <th>V22</th>\n",
       "      <th>V23</th>\n",
       "      <th>V24</th>\n",
       "      <th>V25</th>\n",
       "      <th>V26</th>\n",
       "      <th>V27</th>\n",
       "      <th>V28</th>\n",
       "      <th>Amount</th>\n",
       "      <th>Class</th>\n",
       "    </tr>\n",
       "  </thead>\n",
       "  <tbody>\n",
       "    <tr>\n",
       "      <th>count</th>\n",
       "      <td>984.000000</td>\n",
       "      <td>984.000000</td>\n",
       "      <td>984.000000</td>\n",
       "      <td>984.000000</td>\n",
       "      <td>984.000000</td>\n",
       "      <td>984.000000</td>\n",
       "      <td>984.000000</td>\n",
       "      <td>984.000000</td>\n",
       "      <td>984.000000</td>\n",
       "      <td>984.000000</td>\n",
       "      <td>...</td>\n",
       "      <td>984.000000</td>\n",
       "      <td>984.000000</td>\n",
       "      <td>984.000000</td>\n",
       "      <td>984.000000</td>\n",
       "      <td>984.000000</td>\n",
       "      <td>984.000000</td>\n",
       "      <td>984.000000</td>\n",
       "      <td>984.000000</td>\n",
       "      <td>984.000000</td>\n",
       "      <td>984.000000</td>\n",
       "    </tr>\n",
       "    <tr>\n",
       "      <th>mean</th>\n",
       "      <td>86654.706301</td>\n",
       "      <td>-2.334913</td>\n",
       "      <td>1.792136</td>\n",
       "      <td>-3.462853</td>\n",
       "      <td>2.274341</td>\n",
       "      <td>-1.614282</td>\n",
       "      <td>-0.665014</td>\n",
       "      <td>-2.769261</td>\n",
       "      <td>0.318172</td>\n",
       "      <td>-1.287829</td>\n",
       "      <td>...</td>\n",
       "      <td>0.363853</td>\n",
       "      <td>0.020855</td>\n",
       "      <td>-0.021925</td>\n",
       "      <td>-0.024555</td>\n",
       "      <td>0.020182</td>\n",
       "      <td>0.021813</td>\n",
       "      <td>0.096043</td>\n",
       "      <td>0.041293</td>\n",
       "      <td>107.771738</td>\n",
       "      <td>0.500000</td>\n",
       "    </tr>\n",
       "    <tr>\n",
       "      <th>std</th>\n",
       "      <td>48200.417854</td>\n",
       "      <td>5.506863</td>\n",
       "      <td>3.666831</td>\n",
       "      <td>6.238789</td>\n",
       "      <td>3.175032</td>\n",
       "      <td>4.191851</td>\n",
       "      <td>1.776035</td>\n",
       "      <td>5.863340</td>\n",
       "      <td>4.851938</td>\n",
       "      <td>2.308015</td>\n",
       "      <td>...</td>\n",
       "      <td>2.791499</td>\n",
       "      <td>1.165226</td>\n",
       "      <td>1.149654</td>\n",
       "      <td>0.558566</td>\n",
       "      <td>0.650609</td>\n",
       "      <td>0.470932</td>\n",
       "      <td>1.000086</td>\n",
       "      <td>0.407849</td>\n",
       "      <td>251.481973</td>\n",
       "      <td>0.500254</td>\n",
       "    </tr>\n",
       "    <tr>\n",
       "      <th>min</th>\n",
       "      <td>406.000000</td>\n",
       "      <td>-30.552380</td>\n",
       "      <td>-10.012767</td>\n",
       "      <td>-31.103685</td>\n",
       "      <td>-4.163734</td>\n",
       "      <td>-22.105532</td>\n",
       "      <td>-6.406267</td>\n",
       "      <td>-43.557242</td>\n",
       "      <td>-41.044261</td>\n",
       "      <td>-13.434066</td>\n",
       "      <td>...</td>\n",
       "      <td>-22.797604</td>\n",
       "      <td>-8.887017</td>\n",
       "      <td>-19.254328</td>\n",
       "      <td>-2.197828</td>\n",
       "      <td>-4.781606</td>\n",
       "      <td>-1.154110</td>\n",
       "      <td>-7.263482</td>\n",
       "      <td>-1.869290</td>\n",
       "      <td>0.000000</td>\n",
       "      <td>0.000000</td>\n",
       "    </tr>\n",
       "    <tr>\n",
       "      <th>25%</th>\n",
       "      <td>45531.000000</td>\n",
       "      <td>-2.732232</td>\n",
       "      <td>-0.156375</td>\n",
       "      <td>-5.113334</td>\n",
       "      <td>-0.070474</td>\n",
       "      <td>-1.795412</td>\n",
       "      <td>-1.534514</td>\n",
       "      <td>-3.044451</td>\n",
       "      <td>-0.159122</td>\n",
       "      <td>-2.294075</td>\n",
       "      <td>...</td>\n",
       "      <td>-0.153674</td>\n",
       "      <td>-0.532773</td>\n",
       "      <td>-0.233434</td>\n",
       "      <td>-0.377314</td>\n",
       "      <td>-0.300566</td>\n",
       "      <td>-0.290123</td>\n",
       "      <td>-0.050764</td>\n",
       "      <td>-0.051109</td>\n",
       "      <td>1.180000</td>\n",
       "      <td>0.000000</td>\n",
       "    </tr>\n",
       "    <tr>\n",
       "      <th>50%</th>\n",
       "      <td>77234.500000</td>\n",
       "      <td>-0.719042</td>\n",
       "      <td>0.901876</td>\n",
       "      <td>-1.340393</td>\n",
       "      <td>1.252830</td>\n",
       "      <td>-0.475557</td>\n",
       "      <td>-0.618123</td>\n",
       "      <td>-0.603661</td>\n",
       "      <td>0.188375</td>\n",
       "      <td>-0.697541</td>\n",
       "      <td>...</td>\n",
       "      <td>0.167283</td>\n",
       "      <td>0.037433</td>\n",
       "      <td>-0.031591</td>\n",
       "      <td>0.015381</td>\n",
       "      <td>0.048428</td>\n",
       "      <td>-0.026232</td>\n",
       "      <td>0.060316</td>\n",
       "      <td>0.039172</td>\n",
       "      <td>17.690000</td>\n",
       "      <td>0.500000</td>\n",
       "    </tr>\n",
       "    <tr>\n",
       "      <th>75%</th>\n",
       "      <td>133339.500000</td>\n",
       "      <td>1.055008</td>\n",
       "      <td>2.735735</td>\n",
       "      <td>0.432455</td>\n",
       "      <td>4.229802</td>\n",
       "      <td>0.412969</td>\n",
       "      <td>0.081080</td>\n",
       "      <td>0.240211</td>\n",
       "      <td>0.886583</td>\n",
       "      <td>0.158964</td>\n",
       "      <td>...</td>\n",
       "      <td>0.640500</td>\n",
       "      <td>0.598677</td>\n",
       "      <td>0.180455</td>\n",
       "      <td>0.392654</td>\n",
       "      <td>0.385510</td>\n",
       "      <td>0.319680</td>\n",
       "      <td>0.455730</td>\n",
       "      <td>0.208837</td>\n",
       "      <td>99.990000</td>\n",
       "      <td>1.000000</td>\n",
       "    </tr>\n",
       "    <tr>\n",
       "      <th>max</th>\n",
       "      <td>172267.000000</td>\n",
       "      <td>2.301943</td>\n",
       "      <td>22.057729</td>\n",
       "      <td>3.071862</td>\n",
       "      <td>12.114672</td>\n",
       "      <td>11.095089</td>\n",
       "      <td>8.794068</td>\n",
       "      <td>14.011559</td>\n",
       "      <td>20.007208</td>\n",
       "      <td>5.279445</td>\n",
       "      <td>...</td>\n",
       "      <td>27.202839</td>\n",
       "      <td>8.361985</td>\n",
       "      <td>5.466230</td>\n",
       "      <td>1.181559</td>\n",
       "      <td>2.208209</td>\n",
       "      <td>2.745261</td>\n",
       "      <td>3.052358</td>\n",
       "      <td>1.779364</td>\n",
       "      <td>3416.790000</td>\n",
       "      <td>1.000000</td>\n",
       "    </tr>\n",
       "  </tbody>\n",
       "</table>\n",
       "<p>8 rows × 31 columns</p>\n",
       "</div>"
      ],
      "text/plain": [
       "                Time          V1          V2          V3          V4  \\\n",
       "count     984.000000  984.000000  984.000000  984.000000  984.000000   \n",
       "mean    86654.706301   -2.334913    1.792136   -3.462853    2.274341   \n",
       "std     48200.417854    5.506863    3.666831    6.238789    3.175032   \n",
       "min       406.000000  -30.552380  -10.012767  -31.103685   -4.163734   \n",
       "25%     45531.000000   -2.732232   -0.156375   -5.113334   -0.070474   \n",
       "50%     77234.500000   -0.719042    0.901876   -1.340393    1.252830   \n",
       "75%    133339.500000    1.055008    2.735735    0.432455    4.229802   \n",
       "max    172267.000000    2.301943   22.057729    3.071862   12.114672   \n",
       "\n",
       "               V5          V6          V7          V8          V9  ...  \\\n",
       "count  984.000000  984.000000  984.000000  984.000000  984.000000  ...   \n",
       "mean    -1.614282   -0.665014   -2.769261    0.318172   -1.287829  ...   \n",
       "std      4.191851    1.776035    5.863340    4.851938    2.308015  ...   \n",
       "min    -22.105532   -6.406267  -43.557242  -41.044261  -13.434066  ...   \n",
       "25%     -1.795412   -1.534514   -3.044451   -0.159122   -2.294075  ...   \n",
       "50%     -0.475557   -0.618123   -0.603661    0.188375   -0.697541  ...   \n",
       "75%      0.412969    0.081080    0.240211    0.886583    0.158964  ...   \n",
       "max     11.095089    8.794068   14.011559   20.007208    5.279445  ...   \n",
       "\n",
       "              V21         V22         V23         V24         V25         V26  \\\n",
       "count  984.000000  984.000000  984.000000  984.000000  984.000000  984.000000   \n",
       "mean     0.363853    0.020855   -0.021925   -0.024555    0.020182    0.021813   \n",
       "std      2.791499    1.165226    1.149654    0.558566    0.650609    0.470932   \n",
       "min    -22.797604   -8.887017  -19.254328   -2.197828   -4.781606   -1.154110   \n",
       "25%     -0.153674   -0.532773   -0.233434   -0.377314   -0.300566   -0.290123   \n",
       "50%      0.167283    0.037433   -0.031591    0.015381    0.048428   -0.026232   \n",
       "75%      0.640500    0.598677    0.180455    0.392654    0.385510    0.319680   \n",
       "max     27.202839    8.361985    5.466230    1.181559    2.208209    2.745261   \n",
       "\n",
       "              V27         V28       Amount       Class  \n",
       "count  984.000000  984.000000   984.000000  984.000000  \n",
       "mean     0.096043    0.041293   107.771738    0.500000  \n",
       "std      1.000086    0.407849   251.481973    0.500254  \n",
       "min     -7.263482   -1.869290     0.000000    0.000000  \n",
       "25%     -0.050764   -0.051109     1.180000    0.000000  \n",
       "50%      0.060316    0.039172    17.690000    0.500000  \n",
       "75%      0.455730    0.208837    99.990000    1.000000  \n",
       "max      3.052358    1.779364  3416.790000    1.000000  \n",
       "\n",
       "[8 rows x 31 columns]"
      ]
     },
     "execution_count": 51,
     "metadata": {},
     "output_type": "execute_result"
    }
   ],
   "source": [
    "data.describe()"
   ]
  },
  {
   "cell_type": "markdown",
   "metadata": {},
   "source": [
    "### Taking Input and and output"
   ]
  },
  {
   "cell_type": "code",
   "execution_count": 52,
   "metadata": {},
   "outputs": [],
   "source": [
    "X=data.drop(columns=['Class'])\n",
    "y=data['Class']"
   ]
  },
  {
   "cell_type": "markdown",
   "metadata": {},
   "source": [
    "### Original data dimension"
   ]
  },
  {
   "cell_type": "code",
   "execution_count": 53,
   "metadata": {},
   "outputs": [
    {
     "data": {
      "text/plain": [
       "(984, 30)"
      ]
     },
     "execution_count": 53,
     "metadata": {},
     "output_type": "execute_result"
    }
   ],
   "source": [
    "X.shape"
   ]
  },
  {
   "cell_type": "markdown",
   "metadata": {
    "id": "f6hlLRFG7Q_x"
   },
   "source": [
    "### Scalling the Values of Features"
   ]
  },
  {
   "cell_type": "code",
   "execution_count": 54,
   "metadata": {
    "id": "kRmvRG5_7Q_x"
   },
   "outputs": [],
   "source": [
    "X= MinMaxScaler().fit_transform(X)"
   ]
  },
  {
   "cell_type": "markdown",
   "metadata": {
    "papermill": {
     "duration": 0.065466,
     "end_time": "2020-11-30T07:38:51.578836",
     "exception": false,
     "start_time": "2020-11-30T07:38:51.51337",
     "status": "completed"
    },
    "tags": []
   },
   "source": [
    "#PCA Dimension Reduction"
   ]
  },
  {
   "cell_type": "markdown",
   "metadata": {
    "id": "9q9GRNDD7Q_y"
   },
   "source": [
    "### PCA"
   ]
  },
  {
   "cell_type": "code",
   "execution_count": 55,
   "metadata": {
    "id": "Px3BY6oW7Q_y"
   },
   "outputs": [],
   "source": [
    "PCA_ = PCA(n_components=20)\n",
    "PCA_X = PCA_.fit_transform(X)"
   ]
  },
  {
   "cell_type": "markdown",
   "metadata": {},
   "source": [
    "### Data Dimensions now"
   ]
  },
  {
   "cell_type": "code",
   "execution_count": 56,
   "metadata": {},
   "outputs": [
    {
     "data": {
      "text/plain": [
       "(984, 20)"
      ]
     },
     "execution_count": 56,
     "metadata": {},
     "output_type": "execute_result"
    }
   ],
   "source": [
    "PCA_X.shape"
   ]
  },
  {
   "cell_type": "code",
   "execution_count": 57,
   "metadata": {
    "execution": {
     "iopub.execute_input": "2021-06-03T13:11:17.970782Z",
     "iopub.status.busy": "2021-06-03T13:11:17.970416Z",
     "iopub.status.idle": "2021-06-03T13:11:18.001337Z",
     "shell.execute_reply": "2021-06-03T13:11:17.999381Z",
     "shell.execute_reply.started": "2021-06-03T13:11:17.970752Z"
    }
   },
   "outputs": [],
   "source": [
    "#split of data into training and testing\n",
    "X_train, X_test, y_train, y_test = train_test_split(PCA_X, y, test_size=0.30, random_state=2)"
   ]
  },
  {
   "cell_type": "markdown",
   "metadata": {
    "id": "v4cTsOiBXEIK"
   },
   "source": [
    "# Random Forest"
   ]
  },
  {
   "cell_type": "code",
   "execution_count": 58,
   "metadata": {
    "colab": {
     "base_uri": "https://localhost:8080/",
     "height": 153
    },
    "id": "IttmOnR0XEIL",
    "outputId": "e1ed09a9-593c-4318-fbec-2fb920cfcf47"
   },
   "outputs": [
    {
     "data": {
      "text/plain": [
       "RandomForestClassifier(max_depth=15, max_leaf_nodes=2, random_state=11)"
      ]
     },
     "execution_count": 58,
     "metadata": {},
     "output_type": "execute_result"
    }
   ],
   "source": [
    "Ran_For= RandomForestClassifier(n_estimators=100,max_depth=15, random_state=11,max_leaf_nodes=2)\n",
    "Ran_For= Ran_For.fit(X_train , y_train)\n",
    "Ran_For"
   ]
  },
  {
   "cell_type": "code",
   "execution_count": 59,
   "metadata": {
    "colab": {
     "base_uri": "https://localhost:8080/",
     "height": 34
    },
    "id": "uXZKVw6sXEIM",
    "outputId": "1128dd36-c208-4939-f239-48d5d2cd20b6"
   },
   "outputs": [
    {
     "name": "stdout",
     "output_type": "stream",
     "text": [
      "F1 score= 0.92473\n"
     ]
    }
   ],
   "source": [
    "y_pred = Ran_For.predict(X_test)\n",
    "rn1=f1_score(y_test, y_pred)\n",
    "print('F1 score= {:.5f}'.format(f1_score(y_test, y_pred)))"
   ]
  },
  {
   "cell_type": "markdown",
   "metadata": {
    "id": "IixDIZFMXEIQ"
   },
   "source": [
    "### ROC CURVE"
   ]
  },
  {
   "cell_type": "code",
   "execution_count": 60,
   "metadata": {
    "colab": {
     "base_uri": "https://localhost:8080/",
     "height": 621
    },
    "id": "ouhZGoTIXEIQ",
    "outputId": "409cfee6-7798-46a3-bc99-3e73b4458dc7"
   },
   "outputs": [
    {
     "data": {
      "image/png": "[encoded data removed]",
      "text/plain": [
       "<Figure size 432x288 with 1 Axes>"
      ]
     },
     "metadata": {
      "needs_background": "light"
     },
     "output_type": "display_data"
    }
   ],
   "source": [
    "fpr1, tpr1, thresholds = roc_curve(y_test, y_pred)\n",
    "roc_auc = auc(fpr1, tpr1)\n",
    "plt.figure()\n",
    "plt.plot(fpr1, tpr1, color='darkorange', lw=1, label='ROC curve (area = %0.2f)' % roc_auc)\n",
    "plt.xlim([0.0, 1.0])\n",
    "plt.ylim([0.0, 1.05])\n",
    "plt.xlabel('False Positive Rate')\n",
    "plt.ylabel('True Positive Rate')\n",
    "plt.title('ROC CURVE')\n",
    "plt.legend(loc=\"lower right\")\n",
    "plt.show()"
   ]
  },
  {
   "cell_type": "markdown",
   "metadata": {
    "papermill": {
     "duration": 0.065466,
     "end_time": "2020-11-30T07:38:51.578836",
     "exception": false,
     "start_time": "2020-11-30T07:38:51.51337",
     "status": "completed"
    },
    "tags": []
   },
   "source": [
    "##LDA Dimension Reduction"
   ]
  },
  {
   "cell_type": "markdown",
   "metadata": {
    "id": "9q9GRNDD7Q_y"
   },
   "source": [
    "### LDA"
   ]
  },
  {
   "cell_type": "code",
   "execution_count": 61,
   "metadata": {
    "id": "Px3BY6oW7Q_y"
   },
   "outputs": [],
   "source": [
    "LDA_=LinearDiscriminantAnalysis(n_components=1)\n",
    "LDA_X = LDA_.fit_transform(X,y)"
   ]
  },
  {
   "cell_type": "markdown",
   "metadata": {},
   "source": [
    "### Data Dimensions now"
   ]
  },
  {
   "cell_type": "code",
   "execution_count": 62,
   "metadata": {},
   "outputs": [
    {
     "data": {
      "text/plain": [
       "(984, 1)"
      ]
     },
     "execution_count": 62,
     "metadata": {},
     "output_type": "execute_result"
    }
   ],
   "source": [
    "LDA_X.shape"
   ]
  },
  {
   "cell_type": "code",
   "execution_count": 63,
   "metadata": {
    "execution": {
     "iopub.execute_input": "2021-06-03T13:11:17.970782Z",
     "iopub.status.busy": "2021-06-03T13:11:17.970416Z",
     "iopub.status.idle": "2021-06-03T13:11:18.001337Z",
     "shell.execute_reply": "2021-06-03T13:11:17.999381Z",
     "shell.execute_reply.started": "2021-06-03T13:11:17.970752Z"
    }
   },
   "outputs": [],
   "source": [
    "#split of data into training and testing\n",
    "X_train, X_test, y_train, y_test = train_test_split(LDA_X, y, test_size=0.30, random_state=2)"
   ]
  },
  {
   "cell_type": "markdown",
   "metadata": {
    "id": "v4cTsOiBXEIK"
   },
   "source": [
    "# Random Forest"
   ]
  },
  {
   "cell_type": "code",
   "execution_count": 64,
   "metadata": {
    "colab": {
     "base_uri": "https://localhost:8080/",
     "height": 153
    },
    "id": "IttmOnR0XEIL",
    "outputId": "e1ed09a9-593c-4318-fbec-2fb920cfcf47"
   },
   "outputs": [
    {
     "data": {
      "text/plain": [
       "RandomForestClassifier(max_depth=15, max_leaf_nodes=2, random_state=11)"
      ]
     },
     "execution_count": 64,
     "metadata": {},
     "output_type": "execute_result"
    }
   ],
   "source": [
    "Ran_For= RandomForestClassifier(n_estimators=100,max_depth=15, random_state=11,max_leaf_nodes=2)\n",
    "Ran_For= Ran_For.fit(X_train , y_train)\n",
    "Ran_For"
   ]
  },
  {
   "cell_type": "code",
   "execution_count": 65,
   "metadata": {
    "colab": {
     "base_uri": "https://localhost:8080/",
     "height": 34
    },
    "id": "uXZKVw6sXEIM",
    "outputId": "1128dd36-c208-4939-f239-48d5d2cd20b6"
   },
   "outputs": [
    {
     "name": "stdout",
     "output_type": "stream",
     "text": [
      "F1 score= 0.94949\n"
     ]
    }
   ],
   "source": [
    "y_pred = Ran_For.predict(X_test)\n",
    "rn2=f1_score(y_test, y_pred)\n",
    "print('F1 score= {:.5f}'.format(f1_score(y_test, y_pred)))"
   ]
  },
  {
   "cell_type": "markdown",
   "metadata": {
    "id": "IixDIZFMXEIQ"
   },
   "source": [
    "### ROC CURVE"
   ]
  },
  {
   "cell_type": "code",
   "execution_count": 66,
   "metadata": {
    "colab": {
     "base_uri": "https://localhost:8080/",
     "height": 621
    },
    "id": "ouhZGoTIXEIQ",
    "outputId": "409cfee6-7798-46a3-bc99-3e73b4458dc7"
   },
   "outputs": [
    {
     "data": {
      "image/png": "[encoded data removed]",
      "text/plain": [
       "<Figure size 432x288 with 1 Axes>"
      ]
     },
     "metadata": {
      "needs_background": "light"
     },
     "output_type": "display_data"
    }
   ],
   "source": [
    "fpr2, tpr2, thresholds = roc_curve(y_test, y_pred)\n",
    "roc_auc = auc(fpr2, tpr2)\n",
    "plt.figure()\n",
    "plt.plot(fpr2, tpr2, color='darkorange', lw=1, label='ROC curve (area = %0.2f)' % roc_auc)\n",
    "plt.xlim([0.0, 1.0])\n",
    "plt.ylim([0.0, 1.05])\n",
    "plt.xlabel('False Positive Rate')\n",
    "plt.ylabel('True Positive Rate')\n",
    "plt.title('ROC CURVE')\n",
    "plt.legend(loc=\"lower right\")\n",
    "plt.show()"
   ]
  },
  {
   "cell_type": "markdown",
   "metadata": {
    "papermill": {
     "duration": 0.065466,
     "end_time": "2020-11-30T07:38:51.578836",
     "exception": false,
     "start_time": "2020-11-30T07:38:51.51337",
     "status": "completed"
    },
    "tags": []
   },
   "source": [
    "##TSNE Dimension Reduction"
   ]
  },
  {
   "cell_type": "markdown",
   "metadata": {
    "id": "9q9GRNDD7Q_y"
   },
   "source": [
    "### TSNE"
   ]
  },
  {
   "cell_type": "code",
   "execution_count": 74,
   "metadata": {
    "id": "Px3BY6oW7Q_y"
   },
   "outputs": [],
   "source": [
    "TSNE_=X_TSNE = TSNE(n_components=3)\n",
    "TSNE_X = TSNE_.fit_transform(X)"
   ]
  },
  {
   "cell_type": "markdown",
   "metadata": {},
   "source": [
    "### Data Dimensions now"
   ]
  },
  {
   "cell_type": "code",
   "execution_count": 75,
   "metadata": {},
   "outputs": [
    {
     "data": {
      "text/plain": [
       "(984, 3)"
      ]
     },
     "execution_count": 75,
     "metadata": {},
     "output_type": "execute_result"
    }
   ],
   "source": [
    "TSNE_X.shape"
   ]
  },
  {
   "cell_type": "code",
   "execution_count": 76,
   "metadata": {
    "execution": {
     "iopub.execute_input": "2021-06-03T13:11:17.970782Z",
     "iopub.status.busy": "2021-06-03T13:11:17.970416Z",
     "iopub.status.idle": "2021-06-03T13:11:18.001337Z",
     "shell.execute_reply": "2021-06-03T13:11:17.999381Z",
     "shell.execute_reply.started": "2021-06-03T13:11:17.970752Z"
    }
   },
   "outputs": [],
   "source": [
    "#split of data into training and testing\n",
    "X_train, X_test, y_train, y_test = train_test_split(LDA_X, y, test_size=0.30, random_state=2)"
   ]
  },
  {
   "cell_type": "markdown",
   "metadata": {
    "id": "v4cTsOiBXEIK"
   },
   "source": [
    "# Random Forest"
   ]
  },
  {
   "cell_type": "code",
   "execution_count": 77,
   "metadata": {
    "colab": {
     "base_uri": "https://localhost:8080/",
     "height": 153
    },
    "id": "IttmOnR0XEIL",
    "outputId": "e1ed09a9-593c-4318-fbec-2fb920cfcf47"
   },
   "outputs": [
    {
     "data": {
      "text/plain": [
       "RandomForestClassifier(max_depth=15, max_leaf_nodes=2, random_state=11)"
      ]
     },
     "execution_count": 77,
     "metadata": {},
     "output_type": "execute_result"
    }
   ],
   "source": [
    "Ran_For= RandomForestClassifier(n_estimators=100,max_depth=15, random_state=11,max_leaf_nodes=2)\n",
    "Ran_For= Ran_For.fit(X_train , y_train)\n",
    "Ran_For"
   ]
  },
  {
   "cell_type": "code",
   "execution_count": 78,
   "metadata": {
    "colab": {
     "base_uri": "https://localhost:8080/",
     "height": 34
    },
    "id": "uXZKVw6sXEIM",
    "outputId": "1128dd36-c208-4939-f239-48d5d2cd20b6"
   },
   "outputs": [
    {
     "name": "stdout",
     "output_type": "stream",
     "text": [
      "F1 score= 0.94949\n"
     ]
    }
   ],
   "source": [
    "y_pred = Ran_For.predict(X_test)\n",
    "rn3=f1_score(y_test, y_pred)\n",
    "print('F1 score= {:.5f}'.format(f1_score(y_test, y_pred)))"
   ]
  },
  {
   "cell_type": "markdown",
   "metadata": {
    "id": "IixDIZFMXEIQ"
   },
   "source": [
    "### ROC CURVE"
   ]
  },
  {
   "cell_type": "code",
   "execution_count": 79,
   "metadata": {
    "colab": {
     "base_uri": "https://localhost:8080/",
     "height": 621
    },
    "id": "ouhZGoTIXEIQ",
    "outputId": "409cfee6-7798-46a3-bc99-3e73b4458dc7"
   },
   "outputs": [
    {
     "data": {
      "image/png": "[encoded data removed]",
      "text/plain": [
       "<Figure size 432x288 with 1 Axes>"
      ]
     },
     "metadata": {
      "needs_background": "light"
     },
     "output_type": "display_data"
    }
   ],
   "source": [
    "fpr3, tpr3, thresholds = roc_curve(y_test, y_pred)\n",
    "roc_auc = auc(fpr3, tpr3)\n",
    "plt.figure()\n",
    "plt.plot(fpr3, tpr3, color='darkorange', lw=1, label='ROC curve (area = %0.2f)' % roc_auc)\n",
    "plt.xlim([0.0, 1.0])\n",
    "plt.ylim([0.0, 1.05])\n",
    "plt.xlabel('False Positive Rate')\n",
    "plt.ylabel('True Positive Rate')\n",
    "plt.title('ROC CURVE')\n",
    "plt.legend(loc=\"lower right\")\n",
    "plt.show()"
   ]
  },
  {
   "cell_type": "markdown",
   "metadata": {
    "id": "qFFvTsJY2CEZ"
   },
   "source": [
    "# Comparison of all algorithms Results"
   ]
  },
  {
   "cell_type": "code",
   "execution_count": 80,
   "metadata": {
    "colab": {
     "base_uri": "https://localhost:8080/",
     "height": 255
    },
    "id": "THqPgFpm2CEa",
    "outputId": "34895235-939e-4663-9788-42ac2f2123e7",
    "scrolled": true
   },
   "outputs": [
    {
     "ename": "NameError",
     "evalue": "name 'PrettyTable' is not defined",
     "output_type": "error",
     "traceback": [
      "\u001b[1;31m---------------------------------------------------------------------------\u001b[0m",
      "\u001b[1;31mNameError\u001b[0m                                 Traceback (most recent call last)",
      "\u001b[1;32m~\\AppData\\Local\\Temp/ipykernel_24276/3304810575.py\u001b[0m in \u001b[0;36m<module>\u001b[1;34m\u001b[0m\n\u001b[1;32m----> 1\u001b[1;33m \u001b[0mx\u001b[0m \u001b[1;33m=\u001b[0m \u001b[0mPrettyTable\u001b[0m\u001b[1;33m(\u001b[0m\u001b[1;33m)\u001b[0m\u001b[1;33m\u001b[0m\u001b[1;33m\u001b[0m\u001b[0m\n\u001b[0m\u001b[0;32m      2\u001b[0m \u001b[0mprint\u001b[0m\u001b[1;33m(\u001b[0m\u001b[1;34m'\\n'\u001b[0m\u001b[1;33m)\u001b[0m\u001b[1;33m\u001b[0m\u001b[1;33m\u001b[0m\u001b[0m\n\u001b[0;32m      3\u001b[0m \u001b[0mprint\u001b[0m\u001b[1;33m(\u001b[0m\u001b[1;34m\"Comparison of all algorithm results\"\u001b[0m\u001b[1;33m)\u001b[0m\u001b[1;33m\u001b[0m\u001b[1;33m\u001b[0m\u001b[0m\n\u001b[0;32m      4\u001b[0m \u001b[0mx\u001b[0m\u001b[1;33m.\u001b[0m\u001b[0mfield_names\u001b[0m \u001b[1;33m=\u001b[0m \u001b[1;33m[\u001b[0m\u001b[1;34m\"Model\"\u001b[0m\u001b[1;33m,\u001b[0m \u001b[1;34m\"Accuracy\"\u001b[0m\u001b[1;33m]\u001b[0m\u001b[1;33m\u001b[0m\u001b[1;33m\u001b[0m\u001b[0m\n\u001b[0;32m      5\u001b[0m \u001b[1;33m\u001b[0m\u001b[0m\n",
      "\u001b[1;31mNameError\u001b[0m: name 'PrettyTable' is not defined"
     ]
    }
   ],
   "source": [
    "x = PrettyTable()\n",
    "print('\\n')\n",
    "print(\"Comparison of all algorithm results\")\n",
    "x.field_names = [\"Model\", \"Accuracy\"]\n",
    "\n",
    "\n",
    "x.add_row([\"PCA Based score\", round(rn1,4)])\n",
    "x.add_row([\"LDA Based score\", round(rn2,4)])\n",
    "x.add_row([\"TSNE Based score\", round(rn3,4)])\n",
    "\n",
    "print(x)\n",
    "print('\\n')"
   ]
  },
  {
   "cell_type": "markdown",
   "metadata": {
    "colab_type": "text",
    "id": "ctiJqWQBXEIs"
   },
   "source": [
    "# ROC Curve for Models"
   ]
  },
  {
   "cell_type": "code",
   "execution_count": 81,
   "metadata": {
    "colab": {
     "base_uri": "https://localhost:8080/",
     "height": 621
    },
    "colab_type": "code",
    "executionInfo": {
     "elapsed": 1992,
     "status": "ok",
     "timestamp": 1589235315391,
     "user": {
      "displayName": "Uğur Mertoğlu",
      "photoUrl": "",
      "userId": "13630859382453662878"
     },
     "user_tz": -180
    },
    "id": "xPpJ9kPOXEIs",
    "outputId": "ff27c6de-873f-427a-d00b-4dbb7d3a757d"
   },
   "outputs": [
    {
     "data": {
      "image/png": "[encoded data removed]",
      "text/plain": [
       "<Figure size 432x288 with 1 Axes>"
      ]
     },
     "metadata": {
      "needs_background": "light"
     },
     "output_type": "display_data"
    }
   ],
   "source": [
    "plt.plot(fpr1, tpr1, marker='*', label='PCA', color = 'black')\n",
    "plt.plot(fpr2, tpr2, marker='*', label='LDA', color = 'Red')\n",
    "plt.plot(fpr3, tpr3, marker='*', label='TSNE', color = 'green')\n",
    "\n",
    "plt.xlabel('False Positive Rate')\n",
    "plt.ylabel('True Positive Rate')\n",
    "plt.title('ROC CURVES OF ALGORITHMS')\n",
    "plt.legend(loc=\"lower right\")\n",
    "plt.show()"
   ]
  },
  {
   "cell_type": "markdown",
   "metadata": {},
   "source": [
    "# I applied three dimension reduction techniuqes. LDA and TSNE based dimension reduction techniques performed well but the training time TSNE is more reliable in this case. LDA is the better and fast method for dimensionalty reduction. Thank you for such a great year!"
   ]
  }
 ],
 "metadata": {
  "colab": {
   "name": "Updated Anomaly Detection.ipynb",
   "provenance": []
  },
  "kernelspec": {
   "display_name": "Python 3 (ipykernel)",
   "language": "python",
   "name": "python3"
  },
  "language_info": {
   "codemirror_mode": {
    "name": "ipython",
    "version": 3
   },
   "file_extension": ".py",
   "mimetype": "text/x-python",
   "name": "python",
   "nbconvert_exporter": "python",
   "pygments_lexer": "ipython3",
   "version": "3.9.7"
  }
 },
 "nbformat": 4,
 "nbformat_minor": 1
}
