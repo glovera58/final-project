{
 "cells": [
  {
   "cell_type": "markdown",
   "metadata": {},
   "source": [
    "# Alex Glover Final Project ML"
   ]
  },
  {
   "cell_type": "markdown",
   "metadata": {
    "id": "qQ7rRhIi2CDi"
   },
   "source": [
    "- Libraries are important and we call them to perform the different actions on our data and for training the models.\n",
    "- Its a first step to load the library to perform the specific task"
   ]
  },
  {
   "cell_type": "code",
   "execution_count": 7,
   "metadata": {
    "id": "biwNVBtM2CDj"
   },
   "outputs": [],
   "source": [
    "import numpy as np \n",
    "import pandas as pd \n",
    "import seaborn as sns \n",
    "import matplotlib.pyplot as plt\n",
    "from prettytable import PrettyTable\n",
    "from sklearn.metrics import roc_curve, auc\n",
    "from sklearn.model_selection import train_test_split\n",
    "from sklearn.ensemble import RandomForestClassifier\n",
    "from sklearn.preprocessing import MinMaxScaler\n",
    "from sklearn.decomposition import PCA\n",
    "from sklearn.manifold import TSNE\n",
    "from sklearn.discriminant_analysis import LinearDiscriminantAnalysis\n",
    "from sklearn.metrics import f1_score\n",
    "\n",
    "import warnings\n",
    "warnings.filterwarnings(\"ignore\")"
   ]
  },
  {
   "cell_type": "code",
   "execution_count": 8,
   "metadata": {},
   "outputs": [],
   "source": [
    "data = pd.read_csv(\"dataset.csv\")\n",
    "aa=data[data['Class']==1]\n",
    "bb=data[data['Class']==0]\n",
    "bb=bb.sample(len(aa))\n",
    "data=pd.concat([aa,bb])"
   ]
  },
  {
   "cell_type": "markdown",
   "metadata": {
    "papermill": {
     "duration": 0.065466,
     "end_time": "2020-11-30T07:38:51.578836",
     "exception": false,
     "start_time": "2020-11-30T07:38:51.513370",
     "status": "completed"
    },
    "tags": []
   },
   "source": [
    "#Exploratory data analysis "
   ]
  },
  {
   "cell_type": "markdown",
   "metadata": {},
   "source": [
    "#### Five top records of data"
   ]
  },
  {
   "cell_type": "code",
   "execution_count": 9,
   "metadata": {},
   "outputs": [
    {
     "data": {
      "text/html": [
       "<div>\n",
       "<style scoped>\n",
       "    .dataframe tbody tr th:only-of-type {\n",
       "        vertical-align: middle;\n",
       "    }\n",
       "\n",
       "    .dataframe tbody tr th {\n",
       "        vertical-align: top;\n",
       "    }\n",
       "\n",
       "    .dataframe thead th {\n",
       "        text-align: right;\n",
       "    }\n",
       "</style>\n",
       "<table border=\"1\" class=\"dataframe\">\n",
       "  <thead>\n",
       "    <tr style=\"text-align: right;\">\n",
       "      <th></th>\n",
       "      <th>Time</th>\n",
       "      <th>V1</th>\n",
       "      <th>V2</th>\n",
       "      <th>V3</th>\n",
       "      <th>V4</th>\n",
       "      <th>V5</th>\n",
       "      <th>V6</th>\n",
       "      <th>V7</th>\n",
       "      <th>V8</th>\n",
       "      <th>V9</th>\n",
       "      <th>...</th>\n",
       "      <th>V21</th>\n",
       "      <th>V22</th>\n",
       "      <th>V23</th>\n",
       "      <th>V24</th>\n",
       "      <th>V25</th>\n",
       "      <th>V26</th>\n",
       "      <th>V27</th>\n",
       "      <th>V28</th>\n",
       "      <th>Amount</th>\n",
       "      <th>Class</th>\n",
       "    </tr>\n",
       "  </thead>\n",
       "  <tbody>\n",
       "    <tr>\n",
       "      <th>541</th>\n",
       "      <td>406</td>\n",
       "      <td>-2.312227</td>\n",
       "      <td>1.951992</td>\n",
       "      <td>-1.609851</td>\n",
       "      <td>3.997906</td>\n",
       "      <td>-0.522188</td>\n",
       "      <td>-1.426545</td>\n",
       "      <td>-2.537387</td>\n",
       "      <td>1.391657</td>\n",
       "      <td>-2.770089</td>\n",
       "      <td>...</td>\n",
       "      <td>0.517232</td>\n",
       "      <td>-0.035049</td>\n",
       "      <td>-0.465211</td>\n",
       "      <td>0.320198</td>\n",
       "      <td>0.044519</td>\n",
       "      <td>0.177840</td>\n",
       "      <td>0.261145</td>\n",
       "      <td>-0.143276</td>\n",
       "      <td>0.00</td>\n",
       "      <td>1</td>\n",
       "    </tr>\n",
       "    <tr>\n",
       "      <th>623</th>\n",
       "      <td>472</td>\n",
       "      <td>-3.043541</td>\n",
       "      <td>-3.157307</td>\n",
       "      <td>1.088463</td>\n",
       "      <td>2.288644</td>\n",
       "      <td>1.359805</td>\n",
       "      <td>-1.064823</td>\n",
       "      <td>0.325574</td>\n",
       "      <td>-0.067794</td>\n",
       "      <td>-0.270953</td>\n",
       "      <td>...</td>\n",
       "      <td>0.661696</td>\n",
       "      <td>0.435477</td>\n",
       "      <td>1.375966</td>\n",
       "      <td>-0.293803</td>\n",
       "      <td>0.279798</td>\n",
       "      <td>-0.145362</td>\n",
       "      <td>-0.252773</td>\n",
       "      <td>0.035764</td>\n",
       "      <td>529.00</td>\n",
       "      <td>1</td>\n",
       "    </tr>\n",
       "    <tr>\n",
       "      <th>4920</th>\n",
       "      <td>4462</td>\n",
       "      <td>-2.303350</td>\n",
       "      <td>1.759247</td>\n",
       "      <td>-0.359745</td>\n",
       "      <td>2.330243</td>\n",
       "      <td>-0.821628</td>\n",
       "      <td>-0.075788</td>\n",
       "      <td>0.562320</td>\n",
       "      <td>-0.399147</td>\n",
       "      <td>-0.238253</td>\n",
       "      <td>...</td>\n",
       "      <td>-0.294166</td>\n",
       "      <td>-0.932391</td>\n",
       "      <td>0.172726</td>\n",
       "      <td>-0.087330</td>\n",
       "      <td>-0.156114</td>\n",
       "      <td>-0.542628</td>\n",
       "      <td>0.039566</td>\n",
       "      <td>-0.153029</td>\n",
       "      <td>239.93</td>\n",
       "      <td>1</td>\n",
       "    </tr>\n",
       "    <tr>\n",
       "      <th>6108</th>\n",
       "      <td>6986</td>\n",
       "      <td>-4.397974</td>\n",
       "      <td>1.358367</td>\n",
       "      <td>-2.592844</td>\n",
       "      <td>2.679787</td>\n",
       "      <td>-1.128131</td>\n",
       "      <td>-1.706536</td>\n",
       "      <td>-3.496197</td>\n",
       "      <td>-0.248778</td>\n",
       "      <td>-0.247768</td>\n",
       "      <td>...</td>\n",
       "      <td>0.573574</td>\n",
       "      <td>0.176968</td>\n",
       "      <td>-0.436207</td>\n",
       "      <td>-0.053502</td>\n",
       "      <td>0.252405</td>\n",
       "      <td>-0.657488</td>\n",
       "      <td>-0.827136</td>\n",
       "      <td>0.849573</td>\n",
       "      <td>59.00</td>\n",
       "      <td>1</td>\n",
       "    </tr>\n",
       "    <tr>\n",
       "      <th>6329</th>\n",
       "      <td>7519</td>\n",
       "      <td>1.234235</td>\n",
       "      <td>3.019740</td>\n",
       "      <td>-4.304597</td>\n",
       "      <td>4.732795</td>\n",
       "      <td>3.624201</td>\n",
       "      <td>-1.357746</td>\n",
       "      <td>1.713445</td>\n",
       "      <td>-0.496358</td>\n",
       "      <td>-1.282858</td>\n",
       "      <td>...</td>\n",
       "      <td>-0.379068</td>\n",
       "      <td>-0.704181</td>\n",
       "      <td>-0.656805</td>\n",
       "      <td>-1.632653</td>\n",
       "      <td>1.488901</td>\n",
       "      <td>0.566797</td>\n",
       "      <td>-0.010016</td>\n",
       "      <td>0.146793</td>\n",
       "      <td>1.00</td>\n",
       "      <td>1</td>\n",
       "    </tr>\n",
       "  </tbody>\n",
       "</table>\n",
       "<p>5 rows × 31 columns</p>\n",
       "</div>"
      ],
      "text/plain": [
       "      Time        V1        V2        V3        V4        V5        V6  \\\n",
       "541    406 -2.312227  1.951992 -1.609851  3.997906 -0.522188 -1.426545   \n",
       "623    472 -3.043541 -3.157307  1.088463  2.288644  1.359805 -1.064823   \n",
       "4920  4462 -2.303350  1.759247 -0.359745  2.330243 -0.821628 -0.075788   \n",
       "6108  6986 -4.397974  1.358367 -2.592844  2.679787 -1.128131 -1.706536   \n",
       "6329  7519  1.234235  3.019740 -4.304597  4.732795  3.624201 -1.357746   \n",
       "\n",
       "            V7        V8        V9  ...       V21       V22       V23  \\\n",
       "541  -2.537387  1.391657 -2.770089  ...  0.517232 -0.035049 -0.465211   \n",
       "623   0.325574 -0.067794 -0.270953  ...  0.661696  0.435477  1.375966   \n",
       "4920  0.562320 -0.399147 -0.238253  ... -0.294166 -0.932391  0.172726   \n",
       "6108 -3.496197 -0.248778 -0.247768  ...  0.573574  0.176968 -0.436207   \n",
       "6329  1.713445 -0.496358 -1.282858  ... -0.379068 -0.704181 -0.656805   \n",
       "\n",
       "           V24       V25       V26       V27       V28  Amount  Class  \n",
       "541   0.320198  0.044519  0.177840  0.261145 -0.143276    0.00      1  \n",
       "623  -0.293803  0.279798 -0.145362 -0.252773  0.035764  529.00      1  \n",
       "4920 -0.087330 -0.156114 -0.542628  0.039566 -0.153029  239.93      1  \n",
       "6108 -0.053502  0.252405 -0.657488 -0.827136  0.849573   59.00      1  \n",
       "6329 -1.632653  1.488901  0.566797 -0.010016  0.146793    1.00      1  \n",
       "\n",
       "[5 rows x 31 columns]"
      ]
     },
     "execution_count": 9,
     "metadata": {},
     "output_type": "execute_result"
    }
   ],
   "source": [
    "data.head()"
   ]
  },
  {
   "cell_type": "markdown",
   "metadata": {},
   "source": [
    "#### Five last records of data"
   ]
  },
  {
   "cell_type": "code",
   "execution_count": 10,
   "metadata": {},
   "outputs": [
    {
     "data": {
      "text/html": [
       "<div>\n",
       "<style scoped>\n",
       "    .dataframe tbody tr th:only-of-type {\n",
       "        vertical-align: middle;\n",
       "    }\n",
       "\n",
       "    .dataframe tbody tr th {\n",
       "        vertical-align: top;\n",
       "    }\n",
       "\n",
       "    .dataframe thead th {\n",
       "        text-align: right;\n",
       "    }\n",
       "</style>\n",
       "<table border=\"1\" class=\"dataframe\">\n",
       "  <thead>\n",
       "    <tr style=\"text-align: right;\">\n",
       "      <th></th>\n",
       "      <th>Time</th>\n",
       "      <th>V1</th>\n",
       "      <th>V2</th>\n",
       "      <th>V3</th>\n",
       "      <th>V4</th>\n",
       "      <th>V5</th>\n",
       "      <th>V6</th>\n",
       "      <th>V7</th>\n",
       "      <th>V8</th>\n",
       "      <th>V9</th>\n",
       "      <th>...</th>\n",
       "      <th>V21</th>\n",
       "      <th>V22</th>\n",
       "      <th>V23</th>\n",
       "      <th>V24</th>\n",
       "      <th>V25</th>\n",
       "      <th>V26</th>\n",
       "      <th>V27</th>\n",
       "      <th>V28</th>\n",
       "      <th>Amount</th>\n",
       "      <th>Class</th>\n",
       "    </tr>\n",
       "  </thead>\n",
       "  <tbody>\n",
       "    <tr>\n",
       "      <th>269244</th>\n",
       "      <td>163605</td>\n",
       "      <td>-0.160496</td>\n",
       "      <td>1.256845</td>\n",
       "      <td>-0.899475</td>\n",
       "      <td>-0.624518</td>\n",
       "      <td>0.895734</td>\n",
       "      <td>-0.470561</td>\n",
       "      <td>0.698310</td>\n",
       "      <td>0.213935</td>\n",
       "      <td>-0.274470</td>\n",
       "      <td>...</td>\n",
       "      <td>0.367582</td>\n",
       "      <td>1.214398</td>\n",
       "      <td>-0.145360</td>\n",
       "      <td>0.145329</td>\n",
       "      <td>-0.627467</td>\n",
       "      <td>-0.213372</td>\n",
       "      <td>0.385507</td>\n",
       "      <td>0.262009</td>\n",
       "      <td>0.50</td>\n",
       "      <td>0</td>\n",
       "    </tr>\n",
       "    <tr>\n",
       "      <th>195153</th>\n",
       "      <td>130924</td>\n",
       "      <td>1.913405</td>\n",
       "      <td>-0.219302</td>\n",
       "      <td>-0.323525</td>\n",
       "      <td>1.586363</td>\n",
       "      <td>-0.450605</td>\n",
       "      <td>-0.264265</td>\n",
       "      <td>-0.282510</td>\n",
       "      <td>0.029287</td>\n",
       "      <td>1.282811</td>\n",
       "      <td>...</td>\n",
       "      <td>-0.525789</td>\n",
       "      <td>-1.257110</td>\n",
       "      <td>0.437008</td>\n",
       "      <td>-0.186600</td>\n",
       "      <td>-0.350527</td>\n",
       "      <td>-1.096402</td>\n",
       "      <td>0.051873</td>\n",
       "      <td>-0.031415</td>\n",
       "      <td>16.12</td>\n",
       "      <td>0</td>\n",
       "    </tr>\n",
       "    <tr>\n",
       "      <th>210450</th>\n",
       "      <td>137990</td>\n",
       "      <td>-0.784478</td>\n",
       "      <td>1.536835</td>\n",
       "      <td>0.641762</td>\n",
       "      <td>3.164121</td>\n",
       "      <td>1.072843</td>\n",
       "      <td>0.025662</td>\n",
       "      <td>0.890596</td>\n",
       "      <td>-0.199314</td>\n",
       "      <td>-1.157170</td>\n",
       "      <td>...</td>\n",
       "      <td>0.238133</td>\n",
       "      <td>0.938441</td>\n",
       "      <td>-0.051655</td>\n",
       "      <td>-0.003715</td>\n",
       "      <td>-0.775382</td>\n",
       "      <td>-0.032484</td>\n",
       "      <td>-0.038060</td>\n",
       "      <td>0.365154</td>\n",
       "      <td>1.93</td>\n",
       "      <td>0</td>\n",
       "    </tr>\n",
       "    <tr>\n",
       "      <th>76059</th>\n",
       "      <td>56379</td>\n",
       "      <td>1.155911</td>\n",
       "      <td>0.084122</td>\n",
       "      <td>-0.076377</td>\n",
       "      <td>1.020133</td>\n",
       "      <td>0.496676</td>\n",
       "      <td>0.826220</td>\n",
       "      <td>0.009914</td>\n",
       "      <td>0.168824</td>\n",
       "      <td>0.029459</td>\n",
       "      <td>...</td>\n",
       "      <td>-0.105568</td>\n",
       "      <td>-0.128207</td>\n",
       "      <td>-0.247596</td>\n",
       "      <td>-1.125203</td>\n",
       "      <td>0.796942</td>\n",
       "      <td>-0.261699</td>\n",
       "      <td>0.033308</td>\n",
       "      <td>-0.000625</td>\n",
       "      <td>33.40</td>\n",
       "      <td>0</td>\n",
       "    </tr>\n",
       "    <tr>\n",
       "      <th>90270</th>\n",
       "      <td>62947</td>\n",
       "      <td>-2.051763</td>\n",
       "      <td>-0.182023</td>\n",
       "      <td>-0.151912</td>\n",
       "      <td>1.187505</td>\n",
       "      <td>0.764709</td>\n",
       "      <td>0.016632</td>\n",
       "      <td>-0.626008</td>\n",
       "      <td>0.947385</td>\n",
       "      <td>-0.627035</td>\n",
       "      <td>...</td>\n",
       "      <td>0.163926</td>\n",
       "      <td>-0.001660</td>\n",
       "      <td>-0.595768</td>\n",
       "      <td>-1.291421</td>\n",
       "      <td>0.142912</td>\n",
       "      <td>-0.174269</td>\n",
       "      <td>-0.131539</td>\n",
       "      <td>-0.460168</td>\n",
       "      <td>60.00</td>\n",
       "      <td>0</td>\n",
       "    </tr>\n",
       "  </tbody>\n",
       "</table>\n",
       "<p>5 rows × 31 columns</p>\n",
       "</div>"
      ],
      "text/plain": [
       "          Time        V1        V2        V3        V4        V5        V6  \\\n",
       "269244  163605 -0.160496  1.256845 -0.899475 -0.624518  0.895734 -0.470561   \n",
       "195153  130924  1.913405 -0.219302 -0.323525  1.586363 -0.450605 -0.264265   \n",
       "210450  137990 -0.784478  1.536835  0.641762  3.164121  1.072843  0.025662   \n",
       "76059    56379  1.155911  0.084122 -0.076377  1.020133  0.496676  0.826220   \n",
       "90270    62947 -2.051763 -0.182023 -0.151912  1.187505  0.764709  0.016632   \n",
       "\n",
       "              V7        V8        V9  ...       V21       V22       V23  \\\n",
       "269244  0.698310  0.213935 -0.274470  ...  0.367582  1.214398 -0.145360   \n",
       "195153 -0.282510  0.029287  1.282811  ... -0.525789 -1.257110  0.437008   \n",
       "210450  0.890596 -0.199314 -1.157170  ...  0.238133  0.938441 -0.051655   \n",
       "76059   0.009914  0.168824  0.029459  ... -0.105568 -0.128207 -0.247596   \n",
       "90270  -0.626008  0.947385 -0.627035  ...  0.163926 -0.001660 -0.595768   \n",
       "\n",
       "             V24       V25       V26       V27       V28  Amount  Class  \n",
       "269244  0.145329 -0.627467 -0.213372  0.385507  0.262009    0.50      0  \n",
       "195153 -0.186600 -0.350527 -1.096402  0.051873 -0.031415   16.12      0  \n",
       "210450 -0.003715 -0.775382 -0.032484 -0.038060  0.365154    1.93      0  \n",
       "76059  -1.125203  0.796942 -0.261699  0.033308 -0.000625   33.40      0  \n",
       "90270  -1.291421  0.142912 -0.174269 -0.131539 -0.460168   60.00      0  \n",
       "\n",
       "[5 rows x 31 columns]"
      ]
     },
     "execution_count": 10,
     "metadata": {},
     "output_type": "execute_result"
    }
   ],
   "source": [
    "data.tail()"
   ]
  },
  {
   "cell_type": "markdown",
   "metadata": {},
   "source": [
    "#### Coloumns/features in data"
   ]
  },
  {
   "cell_type": "code",
   "execution_count": 11,
   "metadata": {},
   "outputs": [
    {
     "data": {
      "text/plain": [
       "Index(['Time', 'V1', 'V2', 'V3', 'V4', 'V5', 'V6', 'V7', 'V8', 'V9', 'V10',\n",
       "       'V11', 'V12', 'V13', 'V14', 'V15', 'V16', 'V17', 'V18', 'V19', 'V20',\n",
       "       'V21', 'V22', 'V23', 'V24', 'V25', 'V26', 'V27', 'V28', 'Amount',\n",
       "       'Class'],\n",
       "      dtype='object')"
      ]
     },
     "execution_count": 11,
     "metadata": {},
     "output_type": "execute_result"
    }
   ],
   "source": [
    "data.columns"
   ]
  },
  {
   "cell_type": "markdown",
   "metadata": {},
   "source": [
    "#### Length of data"
   ]
  },
  {
   "cell_type": "code",
   "execution_count": 12,
   "metadata": {},
   "outputs": [
    {
     "name": "stdout",
     "output_type": "stream",
     "text": [
      "lenght of data is 984\n"
     ]
    }
   ],
   "source": [
    "print('lenght of data is', len(data))"
   ]
  },
  {
   "cell_type": "markdown",
   "metadata": {},
   "source": [
    "#### Shape of data"
   ]
  },
  {
   "cell_type": "code",
   "execution_count": 13,
   "metadata": {},
   "outputs": [
    {
     "data": {
      "text/plain": [
       "(984, 31)"
      ]
     },
     "execution_count": 13,
     "metadata": {},
     "output_type": "execute_result"
    }
   ],
   "source": [
    "data.shape"
   ]
  },
  {
   "cell_type": "markdown",
   "metadata": {},
   "source": [
    "#### Data information"
   ]
  },
  {
   "cell_type": "code",
   "execution_count": 14,
   "metadata": {
    "scrolled": false
   },
   "outputs": [
    {
     "name": "stdout",
     "output_type": "stream",
     "text": [
      "<class 'pandas.core.frame.DataFrame'>\n",
      "Int64Index: 984 entries, 541 to 90270\n",
      "Data columns (total 31 columns):\n",
      " #   Column  Non-Null Count  Dtype  \n",
      "---  ------  --------------  -----  \n",
      " 0   Time    984 non-null    int64  \n",
      " 1   V1      984 non-null    float64\n",
      " 2   V2      984 non-null    float64\n",
      " 3   V3      984 non-null    float64\n",
      " 4   V4      984 non-null    float64\n",
      " 5   V5      984 non-null    float64\n",
      " 6   V6      984 non-null    float64\n",
      " 7   V7      984 non-null    float64\n",
      " 8   V8      984 non-null    float64\n",
      " 9   V9      984 non-null    float64\n",
      " 10  V10     984 non-null    float64\n",
      " 11  V11     984 non-null    float64\n",
      " 12  V12     984 non-null    float64\n",
      " 13  V13     984 non-null    float64\n",
      " 14  V14     984 non-null    float64\n",
      " 15  V15     984 non-null    float64\n",
      " 16  V16     984 non-null    float64\n",
      " 17  V17     984 non-null    float64\n",
      " 18  V18     984 non-null    float64\n",
      " 19  V19     984 non-null    float64\n",
      " 20  V20     984 non-null    float64\n",
      " 21  V21     984 non-null    float64\n",
      " 22  V22     984 non-null    float64\n",
      " 23  V23     984 non-null    float64\n",
      " 24  V24     984 non-null    float64\n",
      " 25  V25     984 non-null    float64\n",
      " 26  V26     984 non-null    float64\n",
      " 27  V27     984 non-null    float64\n",
      " 28  V28     984 non-null    float64\n",
      " 29  Amount  984 non-null    float64\n",
      " 30  Class   984 non-null    int64  \n",
      "dtypes: float64(29), int64(2)\n",
      "memory usage: 246.0 KB\n"
     ]
    }
   ],
   "source": [
    "data.info()"
   ]
  },
  {
   "cell_type": "markdown",
   "metadata": {},
   "source": [
    "#### Checking Null values / missing values"
   ]
  },
  {
   "cell_type": "code",
   "execution_count": 15,
   "metadata": {
    "scrolled": true
   },
   "outputs": [
    {
     "data": {
      "text/plain": [
       "0"
      ]
     },
     "execution_count": 15,
     "metadata": {},
     "output_type": "execute_result"
    }
   ],
   "source": [
    "np.sum(data.isnull().any(axis=1))"
   ]
  },
  {
   "cell_type": "markdown",
   "metadata": {
    "papermill": {
     "duration": 0.084502,
     "end_time": "2021-01-17T08:01:58.552833",
     "exception": false,
     "start_time": "2021-01-17T08:01:58.468331",
     "status": "completed"
    },
    "tags": []
   },
   "source": [
    "#### Counts of missing values in each column"
   ]
  },
  {
   "cell_type": "code",
   "execution_count": 16,
   "metadata": {
    "execution": {
     "iopub.execute_input": "2021-01-17T08:01:58.732761Z",
     "iopub.status.busy": "2021-01-17T08:01:58.732055Z",
     "iopub.status.idle": "2021-01-17T08:01:58.740352Z",
     "shell.execute_reply": "2021-01-17T08:01:58.740924Z"
    },
    "papermill": {
     "duration": 0.098959,
     "end_time": "2021-01-17T08:01:58.741074",
     "exception": false,
     "start_time": "2021-01-17T08:01:58.642115",
     "status": "completed"
    },
    "tags": []
   },
   "outputs": [
    {
     "data": {
      "text/plain": [
       "Time      0\n",
       "V1        0\n",
       "V2        0\n",
       "V3        0\n",
       "V4        0\n",
       "V5        0\n",
       "V6        0\n",
       "V7        0\n",
       "V8        0\n",
       "V9        0\n",
       "V10       0\n",
       "V11       0\n",
       "V12       0\n",
       "V13       0\n",
       "V14       0\n",
       "V15       0\n",
       "V16       0\n",
       "V17       0\n",
       "V18       0\n",
       "V19       0\n",
       "V20       0\n",
       "V21       0\n",
       "V22       0\n",
       "V23       0\n",
       "V24       0\n",
       "V25       0\n",
       "V26       0\n",
       "V27       0\n",
       "V28       0\n",
       "Amount    0\n",
       "Class     0\n",
       "dtype: int64"
      ]
     },
     "execution_count": 16,
     "metadata": {},
     "output_type": "execute_result"
    }
   ],
   "source": [
    "data.isnull().sum()"
   ]
  },
  {
   "cell_type": "markdown",
   "metadata": {},
   "source": [
    "#### Rows and columns in the dataset"
   ]
  },
  {
   "cell_type": "code",
   "execution_count": 17,
   "metadata": {},
   "outputs": [
    {
     "name": "stdout",
     "output_type": "stream",
     "text": [
      "Count of columns in the data is:   31\n"
     ]
    }
   ],
   "source": [
    "print('Count of columns in the data is:  ', len(data.columns))"
   ]
  },
  {
   "cell_type": "code",
   "execution_count": 18,
   "metadata": {},
   "outputs": [
    {
     "name": "stdout",
     "output_type": "stream",
     "text": [
      "Count of rows in the data is:   984\n"
     ]
    }
   ],
   "source": [
    "print('Count of rows in the data is:  ', len(data))"
   ]
  },
  {
   "cell_type": "markdown",
   "metadata": {},
   "source": [
    "#### Data Description"
   ]
  },
  {
   "cell_type": "code",
   "execution_count": 19,
   "metadata": {},
   "outputs": [
    {
     "data": {
      "text/html": [
       "<div>\n",
       "<style scoped>\n",
       "    .dataframe tbody tr th:only-of-type {\n",
       "        vertical-align: middle;\n",
       "    }\n",
       "\n",
       "    .dataframe tbody tr th {\n",
       "        vertical-align: top;\n",
       "    }\n",
       "\n",
       "    .dataframe thead th {\n",
       "        text-align: right;\n",
       "    }\n",
       "</style>\n",
       "<table border=\"1\" class=\"dataframe\">\n",
       "  <thead>\n",
       "    <tr style=\"text-align: right;\">\n",
       "      <th></th>\n",
       "      <th>Time</th>\n",
       "      <th>V1</th>\n",
       "      <th>V2</th>\n",
       "      <th>V3</th>\n",
       "      <th>V4</th>\n",
       "      <th>V5</th>\n",
       "      <th>V6</th>\n",
       "      <th>V7</th>\n",
       "      <th>V8</th>\n",
       "      <th>V9</th>\n",
       "      <th>...</th>\n",
       "      <th>V21</th>\n",
       "      <th>V22</th>\n",
       "      <th>V23</th>\n",
       "      <th>V24</th>\n",
       "      <th>V25</th>\n",
       "      <th>V26</th>\n",
       "      <th>V27</th>\n",
       "      <th>V28</th>\n",
       "      <th>Amount</th>\n",
       "      <th>Class</th>\n",
       "    </tr>\n",
       "  </thead>\n",
       "  <tbody>\n",
       "    <tr>\n",
       "      <th>count</th>\n",
       "      <td>984.000000</td>\n",
       "      <td>984.000000</td>\n",
       "      <td>984.000000</td>\n",
       "      <td>984.000000</td>\n",
       "      <td>984.000000</td>\n",
       "      <td>984.000000</td>\n",
       "      <td>984.000000</td>\n",
       "      <td>984.000000</td>\n",
       "      <td>984.000000</td>\n",
       "      <td>984.000000</td>\n",
       "      <td>...</td>\n",
       "      <td>984.000000</td>\n",
       "      <td>984.000000</td>\n",
       "      <td>984.000000</td>\n",
       "      <td>984.000000</td>\n",
       "      <td>984.000000</td>\n",
       "      <td>984.000000</td>\n",
       "      <td>984.000000</td>\n",
       "      <td>984.000000</td>\n",
       "      <td>984.000000</td>\n",
       "      <td>984.000000</td>\n",
       "    </tr>\n",
       "    <tr>\n",
       "      <th>mean</th>\n",
       "      <td>88341.447154</td>\n",
       "      <td>-2.316730</td>\n",
       "      <td>1.829372</td>\n",
       "      <td>-3.497956</td>\n",
       "      <td>2.302885</td>\n",
       "      <td>-1.549543</td>\n",
       "      <td>-0.700802</td>\n",
       "      <td>-2.837026</td>\n",
       "      <td>0.271683</td>\n",
       "      <td>-1.262947</td>\n",
       "      <td>...</td>\n",
       "      <td>0.370419</td>\n",
       "      <td>-0.001494</td>\n",
       "      <td>-0.005146</td>\n",
       "      <td>-0.045502</td>\n",
       "      <td>0.030274</td>\n",
       "      <td>0.021396</td>\n",
       "      <td>0.081265</td>\n",
       "      <td>0.026778</td>\n",
       "      <td>92.705843</td>\n",
       "      <td>0.500000</td>\n",
       "    </tr>\n",
       "    <tr>\n",
       "      <th>std</th>\n",
       "      <td>47956.046240</td>\n",
       "      <td>5.557992</td>\n",
       "      <td>3.702428</td>\n",
       "      <td>6.222905</td>\n",
       "      <td>3.193828</td>\n",
       "      <td>4.239432</td>\n",
       "      <td>1.769702</td>\n",
       "      <td>5.837064</td>\n",
       "      <td>4.940399</td>\n",
       "      <td>2.336673</td>\n",
       "      <td>...</td>\n",
       "      <td>2.901184</td>\n",
       "      <td>1.190998</td>\n",
       "      <td>1.170239</td>\n",
       "      <td>0.556371</td>\n",
       "      <td>0.668161</td>\n",
       "      <td>0.466466</td>\n",
       "      <td>1.005322</td>\n",
       "      <td>0.415974</td>\n",
       "      <td>204.358803</td>\n",
       "      <td>0.500254</td>\n",
       "    </tr>\n",
       "    <tr>\n",
       "      <th>min</th>\n",
       "      <td>56.000000</td>\n",
       "      <td>-30.552380</td>\n",
       "      <td>-17.645813</td>\n",
       "      <td>-31.103685</td>\n",
       "      <td>-4.109529</td>\n",
       "      <td>-22.105532</td>\n",
       "      <td>-9.847370</td>\n",
       "      <td>-43.557242</td>\n",
       "      <td>-41.044261</td>\n",
       "      <td>-13.434066</td>\n",
       "      <td>...</td>\n",
       "      <td>-22.797604</td>\n",
       "      <td>-8.887017</td>\n",
       "      <td>-19.254328</td>\n",
       "      <td>-2.028024</td>\n",
       "      <td>-4.781606</td>\n",
       "      <td>-1.152671</td>\n",
       "      <td>-7.263482</td>\n",
       "      <td>-1.869290</td>\n",
       "      <td>0.000000</td>\n",
       "      <td>0.000000</td>\n",
       "    </tr>\n",
       "    <tr>\n",
       "      <th>25%</th>\n",
       "      <td>48107.250000</td>\n",
       "      <td>-2.910126</td>\n",
       "      <td>-0.114152</td>\n",
       "      <td>-5.084967</td>\n",
       "      <td>0.025955</td>\n",
       "      <td>-1.870746</td>\n",
       "      <td>-1.571771</td>\n",
       "      <td>-3.103817</td>\n",
       "      <td>-0.200009</td>\n",
       "      <td>-2.298358</td>\n",
       "      <td>...</td>\n",
       "      <td>-0.175511</td>\n",
       "      <td>-0.521657</td>\n",
       "      <td>-0.221742</td>\n",
       "      <td>-0.387121</td>\n",
       "      <td>-0.296867</td>\n",
       "      <td>-0.298775</td>\n",
       "      <td>-0.062555</td>\n",
       "      <td>-0.064796</td>\n",
       "      <td>1.180000</td>\n",
       "      <td>0.000000</td>\n",
       "    </tr>\n",
       "    <tr>\n",
       "      <th>50%</th>\n",
       "      <td>80204.000000</td>\n",
       "      <td>-0.673712</td>\n",
       "      <td>0.965610</td>\n",
       "      <td>-1.342324</td>\n",
       "      <td>1.303429</td>\n",
       "      <td>-0.393182</td>\n",
       "      <td>-0.657255</td>\n",
       "      <td>-0.675931</td>\n",
       "      <td>0.141523</td>\n",
       "      <td>-0.653058</td>\n",
       "      <td>...</td>\n",
       "      <td>0.142661</td>\n",
       "      <td>0.014607</td>\n",
       "      <td>-0.031099</td>\n",
       "      <td>0.005434</td>\n",
       "      <td>0.066199</td>\n",
       "      <td>-0.019892</td>\n",
       "      <td>0.042506</td>\n",
       "      <td>0.026694</td>\n",
       "      <td>17.990000</td>\n",
       "      <td>0.500000</td>\n",
       "    </tr>\n",
       "    <tr>\n",
       "      <th>75%</th>\n",
       "      <td>134368.500000</td>\n",
       "      <td>1.147470</td>\n",
       "      <td>2.814266</td>\n",
       "      <td>0.344505</td>\n",
       "      <td>4.235631</td>\n",
       "      <td>0.484630</td>\n",
       "      <td>0.037862</td>\n",
       "      <td>0.227395</td>\n",
       "      <td>0.853411</td>\n",
       "      <td>0.179194</td>\n",
       "      <td>...</td>\n",
       "      <td>0.636615</td>\n",
       "      <td>0.565944</td>\n",
       "      <td>0.190499</td>\n",
       "      <td>0.381696</td>\n",
       "      <td>0.407705</td>\n",
       "      <td>0.322036</td>\n",
       "      <td>0.452145</td>\n",
       "      <td>0.209127</td>\n",
       "      <td>92.570000</td>\n",
       "      <td>1.000000</td>\n",
       "    </tr>\n",
       "    <tr>\n",
       "      <th>max</th>\n",
       "      <td>172607.000000</td>\n",
       "      <td>2.354104</td>\n",
       "      <td>22.057729</td>\n",
       "      <td>3.759214</td>\n",
       "      <td>12.114672</td>\n",
       "      <td>16.625394</td>\n",
       "      <td>6.474115</td>\n",
       "      <td>5.802537</td>\n",
       "      <td>20.007208</td>\n",
       "      <td>5.901320</td>\n",
       "      <td>...</td>\n",
       "      <td>27.202839</td>\n",
       "      <td>8.361985</td>\n",
       "      <td>5.466230</td>\n",
       "      <td>1.214964</td>\n",
       "      <td>2.208209</td>\n",
       "      <td>2.745261</td>\n",
       "      <td>3.052358</td>\n",
       "      <td>1.779364</td>\n",
       "      <td>2125.870000</td>\n",
       "      <td>1.000000</td>\n",
       "    </tr>\n",
       "  </tbody>\n",
       "</table>\n",
       "<p>8 rows × 31 columns</p>\n",
       "</div>"
      ],
      "text/plain": [
       "                Time          V1          V2          V3          V4  \\\n",
       "count     984.000000  984.000000  984.000000  984.000000  984.000000   \n",
       "mean    88341.447154   -2.316730    1.829372   -3.497956    2.302885   \n",
       "std     47956.046240    5.557992    3.702428    6.222905    3.193828   \n",
       "min        56.000000  -30.552380  -17.645813  -31.103685   -4.109529   \n",
       "25%     48107.250000   -2.910126   -0.114152   -5.084967    0.025955   \n",
       "50%     80204.000000   -0.673712    0.965610   -1.342324    1.303429   \n",
       "75%    134368.500000    1.147470    2.814266    0.344505    4.235631   \n",
       "max    172607.000000    2.354104   22.057729    3.759214   12.114672   \n",
       "\n",
       "               V5          V6          V7          V8          V9  ...  \\\n",
       "count  984.000000  984.000000  984.000000  984.000000  984.000000  ...   \n",
       "mean    -1.549543   -0.700802   -2.837026    0.271683   -1.262947  ...   \n",
       "std      4.239432    1.769702    5.837064    4.940399    2.336673  ...   \n",
       "min    -22.105532   -9.847370  -43.557242  -41.044261  -13.434066  ...   \n",
       "25%     -1.870746   -1.571771   -3.103817   -0.200009   -2.298358  ...   \n",
       "50%     -0.393182   -0.657255   -0.675931    0.141523   -0.653058  ...   \n",
       "75%      0.484630    0.037862    0.227395    0.853411    0.179194  ...   \n",
       "max     16.625394    6.474115    5.802537   20.007208    5.901320  ...   \n",
       "\n",
       "              V21         V22         V23         V24         V25         V26  \\\n",
       "count  984.000000  984.000000  984.000000  984.000000  984.000000  984.000000   \n",
       "mean     0.370419   -0.001494   -0.005146   -0.045502    0.030274    0.021396   \n",
       "std      2.901184    1.190998    1.170239    0.556371    0.668161    0.466466   \n",
       "min    -22.797604   -8.887017  -19.254328   -2.028024   -4.781606   -1.152671   \n",
       "25%     -0.175511   -0.521657   -0.221742   -0.387121   -0.296867   -0.298775   \n",
       "50%      0.142661    0.014607   -0.031099    0.005434    0.066199   -0.019892   \n",
       "75%      0.636615    0.565944    0.190499    0.381696    0.407705    0.322036   \n",
       "max     27.202839    8.361985    5.466230    1.214964    2.208209    2.745261   \n",
       "\n",
       "              V27         V28       Amount       Class  \n",
       "count  984.000000  984.000000   984.000000  984.000000  \n",
       "mean     0.081265    0.026778    92.705843    0.500000  \n",
       "std      1.005322    0.415974   204.358803    0.500254  \n",
       "min     -7.263482   -1.869290     0.000000    0.000000  \n",
       "25%     -0.062555   -0.064796     1.180000    0.000000  \n",
       "50%      0.042506    0.026694    17.990000    0.500000  \n",
       "75%      0.452145    0.209127    92.570000    1.000000  \n",
       "max      3.052358    1.779364  2125.870000    1.000000  \n",
       "\n",
       "[8 rows x 31 columns]"
      ]
     },
     "execution_count": 19,
     "metadata": {},
     "output_type": "execute_result"
    }
   ],
   "source": [
    "data.describe()"
   ]
  },
  {
   "cell_type": "markdown",
   "metadata": {},
   "source": [
    "### Taking Input and and output"
   ]
  },
  {
   "cell_type": "code",
   "execution_count": 20,
   "metadata": {},
   "outputs": [],
   "source": [
    "X=data.drop(columns=['Class'])\n",
    "y=data['Class']"
   ]
  },
  {
   "cell_type": "markdown",
   "metadata": {},
   "source": [
    "### Original data dimension"
   ]
  },
  {
   "cell_type": "code",
   "execution_count": 21,
   "metadata": {},
   "outputs": [
    {
     "data": {
      "text/plain": [
       "(984, 30)"
      ]
     },
     "execution_count": 21,
     "metadata": {},
     "output_type": "execute_result"
    }
   ],
   "source": [
    "X.shape"
   ]
  },
  {
   "cell_type": "markdown",
   "metadata": {
    "id": "f6hlLRFG7Q_x"
   },
   "source": [
    "### Scalling the Values of Features"
   ]
  },
  {
   "cell_type": "code",
   "execution_count": 22,
   "metadata": {
    "id": "kRmvRG5_7Q_x"
   },
   "outputs": [],
   "source": [
    "X= MinMaxScaler().fit_transform(X)"
   ]
  },
  {
   "cell_type": "markdown",
   "metadata": {
    "papermill": {
     "duration": 0.065466,
     "end_time": "2020-11-30T07:38:51.578836",
     "exception": false,
     "start_time": "2020-11-30T07:38:51.51337",
     "status": "completed"
    },
    "tags": []
   },
   "source": [
    "#PCA Dimension Reduction"
   ]
  },
  {
   "cell_type": "markdown",
   "metadata": {
    "id": "9q9GRNDD7Q_y"
   },
   "source": [
    "### PCA"
   ]
  },
  {
   "cell_type": "code",
   "execution_count": 24,
   "metadata": {
    "id": "Px3BY6oW7Q_y"
   },
   "outputs": [],
   "source": [
    "PCA_ = PCA(n_components=20)\n",
    "PCA_X = PCA_.fit_transform(X)"
   ]
  },
  {
   "cell_type": "markdown",
   "metadata": {},
   "source": [
    "### Data Dimensions now"
   ]
  },
  {
   "cell_type": "code",
   "execution_count": 25,
   "metadata": {},
   "outputs": [
    {
     "data": {
      "text/plain": [
       "(984, 20)"
      ]
     },
     "execution_count": 25,
     "metadata": {},
     "output_type": "execute_result"
    }
   ],
   "source": [
    "PCA_X.shape"
   ]
  },
  {
   "cell_type": "code",
   "execution_count": 26,
   "metadata": {
    "execution": {
     "iopub.execute_input": "2021-06-03T13:11:17.970782Z",
     "iopub.status.busy": "2021-06-03T13:11:17.970416Z",
     "iopub.status.idle": "2021-06-03T13:11:18.001337Z",
     "shell.execute_reply": "2021-06-03T13:11:17.999381Z",
     "shell.execute_reply.started": "2021-06-03T13:11:17.970752Z"
    }
   },
   "outputs": [],
   "source": [
    "#split of data into training and testing\n",
    "X_train, X_test, y_train, y_test = train_test_split(PCA_X, y, test_size=0.30, random_state=2)"
   ]
  },
  {
   "cell_type": "markdown",
   "metadata": {
    "id": "v4cTsOiBXEIK"
   },
   "source": [
    "# Random Forest"
   ]
  },
  {
   "cell_type": "code",
   "execution_count": 27,
   "metadata": {
    "colab": {
     "base_uri": "https://localhost:8080/",
     "height": 153
    },
    "id": "IttmOnR0XEIL",
    "outputId": "e1ed09a9-593c-4318-fbec-2fb920cfcf47"
   },
   "outputs": [
    {
     "data": {
      "text/plain": [
       "RandomForestClassifier(max_depth=15, max_leaf_nodes=2, random_state=11)"
      ]
     },
     "execution_count": 27,
     "metadata": {},
     "output_type": "execute_result"
    }
   ],
   "source": [
    "Ran_For= RandomForestClassifier(n_estimators=100,max_depth=15, random_state=11,max_leaf_nodes=2)\n",
    "Ran_For= Ran_For.fit(X_train , y_train)\n",
    "Ran_For"
   ]
  },
  {
   "cell_type": "code",
   "execution_count": 28,
   "metadata": {
    "colab": {
     "base_uri": "https://localhost:8080/",
     "height": 34
    },
    "id": "uXZKVw6sXEIM",
    "outputId": "1128dd36-c208-4939-f239-48d5d2cd20b6"
   },
   "outputs": [
    {
     "name": "stdout",
     "output_type": "stream",
     "text": [
      "F1 score= 0.90647\n"
     ]
    }
   ],
   "source": [
    "y_pred = Ran_For.predict(X_test)\n",
    "rn1=f1_score(y_test, y_pred)\n",
    "print('F1 score= {:.5f}'.format(f1_score(y_test, y_pred)))"
   ]
  },
  {
   "cell_type": "markdown",
   "metadata": {
    "id": "IixDIZFMXEIQ"
   },
   "source": [
    "### ROC CURVE"
   ]
  },
  {
   "cell_type": "code",
   "execution_count": 29,
   "metadata": {
    "colab": {
     "base_uri": "https://localhost:8080/",
     "height": 621
    },
    "id": "ouhZGoTIXEIQ",
    "outputId": "409cfee6-7798-46a3-bc99-3e73b4458dc7"
   },
   "outputs": [
    {
     "data": {
      "image/png": "[encoded data removed]",
      "text/plain": [
       "<Figure size 432x288 with 1 Axes>"
      ]
     },
     "metadata": {
      "needs_background": "light"
     },
     "output_type": "display_data"
    }
   ],
   "source": [
    "fpr1, tpr1, thresholds = roc_curve(y_test, y_pred)\n",
    "roc_auc = auc(fpr1, tpr1)\n",
    "plt.figure()\n",
    "plt.plot(fpr1, tpr1, color='darkorange', lw=1, label='ROC curve (area = %0.2f)' % roc_auc)\n",
    "plt.xlim([0.0, 1.0])\n",
    "plt.ylim([0.0, 1.05])\n",
    "plt.xlabel('False Positive Rate')\n",
    "plt.ylabel('True Positive Rate')\n",
    "plt.title('ROC CURVE')\n",
    "plt.legend(loc=\"lower right\")\n",
    "plt.show()"
   ]
  },
  {
   "cell_type": "markdown",
   "metadata": {
    "papermill": {
     "duration": 0.065466,
     "end_time": "2020-11-30T07:38:51.578836",
     "exception": false,
     "start_time": "2020-11-30T07:38:51.51337",
     "status": "completed"
    },
    "tags": []
   },
   "source": [
    "##LDA Dimension Reduction"
   ]
  },
  {
   "cell_type": "markdown",
   "metadata": {
    "id": "9q9GRNDD7Q_y"
   },
   "source": [
    "### LDA"
   ]
  },
  {
   "cell_type": "code",
   "execution_count": 30,
   "metadata": {
    "id": "Px3BY6oW7Q_y"
   },
   "outputs": [],
   "source": [
    "LDA_=LinearDiscriminantAnalysis(n_components=1)\n",
    "LDA_X = LDA_.fit_transform(X,y)"
   ]
  },
  {
   "cell_type": "markdown",
   "metadata": {},
   "source": [
    "### Data Dimensions now"
   ]
  },
  {
   "cell_type": "code",
   "execution_count": 31,
   "metadata": {},
   "outputs": [
    {
     "data": {
      "text/plain": [
       "(984, 1)"
      ]
     },
     "execution_count": 31,
     "metadata": {},
     "output_type": "execute_result"
    }
   ],
   "source": [
    "LDA_X.shape"
   ]
  },
  {
   "cell_type": "code",
   "execution_count": 32,
   "metadata": {
    "execution": {
     "iopub.execute_input": "2021-06-03T13:11:17.970782Z",
     "iopub.status.busy": "2021-06-03T13:11:17.970416Z",
     "iopub.status.idle": "2021-06-03T13:11:18.001337Z",
     "shell.execute_reply": "2021-06-03T13:11:17.999381Z",
     "shell.execute_reply.started": "2021-06-03T13:11:17.970752Z"
    }
   },
   "outputs": [],
   "source": [
    "#split of data into training and testing\n",
    "X_train, X_test, y_train, y_test = train_test_split(LDA_X, y, test_size=0.30, random_state=2)"
   ]
  },
  {
   "cell_type": "markdown",
   "metadata": {
    "id": "v4cTsOiBXEIK"
   },
   "source": [
    "# Random Forest"
   ]
  },
  {
   "cell_type": "code",
   "execution_count": 33,
   "metadata": {
    "colab": {
     "base_uri": "https://localhost:8080/",
     "height": 153
    },
    "id": "IttmOnR0XEIL",
    "outputId": "e1ed09a9-593c-4318-fbec-2fb920cfcf47"
   },
   "outputs": [
    {
     "data": {
      "text/plain": [
       "RandomForestClassifier(max_depth=15, max_leaf_nodes=2, random_state=11)"
      ]
     },
     "execution_count": 33,
     "metadata": {},
     "output_type": "execute_result"
    }
   ],
   "source": [
    "Ran_For= RandomForestClassifier(n_estimators=100,max_depth=15, random_state=11,max_leaf_nodes=2)\n",
    "Ran_For= Ran_For.fit(X_train , y_train)\n",
    "Ran_For"
   ]
  },
  {
   "cell_type": "code",
   "execution_count": 34,
   "metadata": {
    "colab": {
     "base_uri": "https://localhost:8080/",
     "height": 34
    },
    "id": "uXZKVw6sXEIM",
    "outputId": "1128dd36-c208-4939-f239-48d5d2cd20b6"
   },
   "outputs": [
    {
     "name": "stdout",
     "output_type": "stream",
     "text": [
      "F1 score= 0.95833\n"
     ]
    }
   ],
   "source": [
    "y_pred = Ran_For.predict(X_test)\n",
    "rn2=f1_score(y_test, y_pred)\n",
    "print('F1 score= {:.5f}'.format(f1_score(y_test, y_pred)))"
   ]
  },
  {
   "cell_type": "markdown",
   "metadata": {
    "id": "IixDIZFMXEIQ"
   },
   "source": [
    "### ROC CURVE"
   ]
  },
  {
   "cell_type": "code",
   "execution_count": 35,
   "metadata": {
    "colab": {
     "base_uri": "https://localhost:8080/",
     "height": 621
    },
    "id": "ouhZGoTIXEIQ",
    "outputId": "409cfee6-7798-46a3-bc99-3e73b4458dc7"
   },
   "outputs": [
    {
     "data": {
      "image/png": "[encoded data removed]",
      "text/plain": [
       "<Figure size 432x288 with 1 Axes>"
      ]
     },
     "metadata": {
      "needs_background": "light"
     },
     "output_type": "display_data"
    }
   ],
   "source": [
    "fpr2, tpr2, thresholds = roc_curve(y_test, y_pred)\n",
    "roc_auc = auc(fpr2, tpr2)\n",
    "plt.figure()\n",
    "plt.plot(fpr2, tpr2, color='darkorange', lw=1, label='ROC curve (area = %0.2f)' % roc_auc)\n",
    "plt.xlim([0.0, 1.0])\n",
    "plt.ylim([0.0, 1.05])\n",
    "plt.xlabel('False Positive Rate')\n",
    "plt.ylabel('True Positive Rate')\n",
    "plt.title('ROC CURVE')\n",
    "plt.legend(loc=\"lower right\")\n",
    "plt.show()"
   ]
  },
  {
   "cell_type": "markdown",
   "metadata": {
    "papermill": {
     "duration": 0.065466,
     "end_time": "2020-11-30T07:38:51.578836",
     "exception": false,
     "start_time": "2020-11-30T07:38:51.51337",
     "status": "completed"
    },
    "tags": []
   },
   "source": [
    "##TSNE Dimension Reduction"
   ]
  },
  {
   "cell_type": "markdown",
   "metadata": {
    "id": "9q9GRNDD7Q_y"
   },
   "source": [
    "### TSNE"
   ]
  },
  {
   "cell_type": "code",
   "execution_count": 39,
   "metadata": {
    "id": "Px3BY6oW7Q_y"
   },
   "outputs": [
    {
     "data": {
      "text/plain": [
       "array([[-2.9301772, -4.0057454, -9.811724 ],\n",
       "       [-9.010205 , 21.639673 , -4.583249 ],\n",
       "       [-4.1924863, -4.913397 , -7.160628 ],\n",
       "       ...,\n",
       "       [ 1.9664184,  3.0578558, 17.478067 ],\n",
       "       [ 5.9012275, 15.232837 ,  0.9673692],\n",
       "       [ 6.2643266, 11.546442 , -2.62179  ]], dtype=float32)"
      ]
     },
     "execution_count": 39,
     "metadata": {},
     "output_type": "execute_result"
    }
   ],
   "source": [
    "TSNE_=X_TSNE = TSNE(n_components=3)\n",
    "TSNE_X = TSNE_.fit_transform(X)\n",
    "TSNE_X"
   ]
  },
  {
   "cell_type": "markdown",
   "metadata": {},
   "source": [
    "### Data Dimensions now"
   ]
  },
  {
   "cell_type": "code",
   "execution_count": 40,
   "metadata": {},
   "outputs": [
    {
     "data": {
      "text/plain": [
       "(984, 3)"
      ]
     },
     "execution_count": 40,
     "metadata": {},
     "output_type": "execute_result"
    }
   ],
   "source": [
    "TSNE_X.shape"
   ]
  },
  {
   "cell_type": "code",
   "execution_count": 41,
   "metadata": {
    "execution": {
     "iopub.execute_input": "2021-06-03T13:11:17.970782Z",
     "iopub.status.busy": "2021-06-03T13:11:17.970416Z",
     "iopub.status.idle": "2021-06-03T13:11:18.001337Z",
     "shell.execute_reply": "2021-06-03T13:11:17.999381Z",
     "shell.execute_reply.started": "2021-06-03T13:11:17.970752Z"
    }
   },
   "outputs": [],
   "source": [
    "#split of data into training and testing\n",
    "X_train, X_test, y_train, y_test = train_test_split(LDA_X, y, test_size=0.30, random_state=2)"
   ]
  },
  {
   "cell_type": "markdown",
   "metadata": {
    "id": "v4cTsOiBXEIK"
   },
   "source": [
    "# Random Forest"
   ]
  },
  {
   "cell_type": "code",
   "execution_count": 42,
   "metadata": {
    "colab": {
     "base_uri": "https://localhost:8080/",
     "height": 153
    },
    "id": "IttmOnR0XEIL",
    "outputId": "e1ed09a9-593c-4318-fbec-2fb920cfcf47"
   },
   "outputs": [
    {
     "data": {
      "text/plain": [
       "RandomForestClassifier(max_depth=15, max_leaf_nodes=2, random_state=11)"
      ]
     },
     "execution_count": 42,
     "metadata": {},
     "output_type": "execute_result"
    }
   ],
   "source": [
    "Ran_For= RandomForestClassifier(n_estimators=100,max_depth=15, random_state=11,max_leaf_nodes=2)\n",
    "Ran_For= Ran_For.fit(X_train , y_train)\n",
    "Ran_For"
   ]
  },
  {
   "cell_type": "code",
   "execution_count": 43,
   "metadata": {
    "colab": {
     "base_uri": "https://localhost:8080/",
     "height": 34
    },
    "id": "uXZKVw6sXEIM",
    "outputId": "1128dd36-c208-4939-f239-48d5d2cd20b6"
   },
   "outputs": [
    {
     "name": "stdout",
     "output_type": "stream",
     "text": [
      "F1 score= 0.95833\n"
     ]
    }
   ],
   "source": [
    "y_pred = Ran_For.predict(X_test)\n",
    "rn3=f1_score(y_test, y_pred)\n",
    "print('F1 score= {:.5f}'.format(f1_score(y_test, y_pred)))"
   ]
  },
  {
   "cell_type": "markdown",
   "metadata": {
    "id": "IixDIZFMXEIQ"
   },
   "source": [
    "### ROC CURVE"
   ]
  },
  {
   "cell_type": "code",
   "execution_count": 44,
   "metadata": {
    "colab": {
     "base_uri": "https://localhost:8080/",
     "height": 621
    },
    "id": "ouhZGoTIXEIQ",
    "outputId": "409cfee6-7798-46a3-bc99-3e73b4458dc7"
   },
   "outputs": [
    {
     "data": {
      "image/png": "[encoded data removed]",
      "text/plain": [
       "<Figure size 432x288 with 1 Axes>"
      ]
     },
     "metadata": {
      "needs_background": "light"
     },
     "output_type": "display_data"
    }
   ],
   "source": [
    "fpr3, tpr3, thresholds = roc_curve(y_test, y_pred)\n",
    "roc_auc = auc(fpr3, tpr3)\n",
    "plt.figure()\n",
    "plt.plot(fpr3, tpr3, color='darkorange', lw=1, label='ROC curve (area = %0.2f)' % roc_auc)\n",
    "plt.xlim([0.0, 1.0])\n",
    "plt.ylim([0.0, 1.05])\n",
    "plt.xlabel('False Positive Rate')\n",
    "plt.ylabel('True Positive Rate')\n",
    "plt.title('ROC CURVE')\n",
    "plt.legend(loc=\"lower right\")\n",
    "plt.show()"
   ]
  },
  {
   "cell_type": "markdown",
   "metadata": {
    "id": "qFFvTsJY2CEZ"
   },
   "source": [
    "# Comparison of all algorithms Results"
   ]
  },
  {
   "cell_type": "code",
   "execution_count": 45,
   "metadata": {
    "colab": {
     "base_uri": "https://localhost:8080/",
     "height": 255
    },
    "id": "THqPgFpm2CEa",
    "outputId": "34895235-939e-4663-9788-42ac2f2123e7",
    "scrolled": true
   },
   "outputs": [
    {
     "name": "stdout",
     "output_type": "stream",
     "text": [
      "\n",
      "\n",
      "Comparison of all algorithm results\n",
      "+------------------+----------+\n",
      "|      Model       | Accuracy |\n",
      "+------------------+----------+\n",
      "| PCA Based score  |  0.9065  |\n",
      "| LDA Based score  |  0.9583  |\n",
      "| TSNE Based score |  0.9583  |\n",
      "+------------------+----------+\n",
      "\n",
      "\n"
     ]
    }
   ],
   "source": [
    "x = PrettyTable()\n",
    "print('\\n')\n",
    "print(\"Comparison of all algorithm results\")\n",
    "x.field_names = [\"Model\", \"Accuracy\"]\n",
    "\n",
    "\n",
    "x.add_row([\"PCA Based score\", round(rn1,4)])\n",
    "x.add_row([\"LDA Based score\", round(rn2,4)])\n",
    "x.add_row([\"TSNE Based score\", round(rn3,4)])\n",
    "\n",
    "print(x)\n",
    "print('\\n')"
   ]
  },
  {
   "cell_type": "markdown",
   "metadata": {
    "colab_type": "text",
    "id": "ctiJqWQBXEIs"
   },
   "source": [
    "# ROC Curve for Models"
   ]
  },
  {
   "cell_type": "code",
   "execution_count": 46,
   "metadata": {
    "colab": {
     "base_uri": "https://localhost:8080/",
     "height": 621
    },
    "colab_type": "code",
    "executionInfo": {
     "elapsed": 1992,
     "status": "ok",
     "timestamp": 1589235315391,
     "user": {
      "displayName": "Uğur Mertoğlu",
      "photoUrl": "",
      "userId": "13630859382453662878"
     },
     "user_tz": -180
    },
    "id": "xPpJ9kPOXEIs",
    "outputId": "ff27c6de-873f-427a-d00b-4dbb7d3a757d"
   },
   "outputs": [
    {
     "data": {
      "image/png": "[encoded data removed]",
      "text/plain": [
       "<Figure size 432x288 with 1 Axes>"
      ]
     },
     "metadata": {
      "needs_background": "light"
     },
     "output_type": "display_data"
    }
   ],
   "source": [
    "plt.plot(fpr1, tpr1, marker='*', label='PCA', color = 'black')\n",
    "plt.plot(fpr2, tpr2, marker='*', label='LDA', color = 'Red')\n",
    "plt.plot(fpr3, tpr3, marker='*', label='TSNE', color = 'green')\n",
    "\n",
    "plt.xlabel('False Positive Rate')\n",
    "plt.ylabel('True Positive Rate')\n",
    "plt.title('ROC CURVES OF ALGORITHMS')\n",
    "plt.legend(loc=\"lower right\")\n",
    "plt.show()"
   ]
  },
  {
   "cell_type": "markdown",
   "metadata": {},
   "source": [
    "# I applied three dimension reduction techniques. LDA and TSNE based dimension reduction techniques performed well but the training time TSNE is more reliable in this case. In my case, I learned that the LDA is the better and fast method for dimensionalty reduction. PCA was the least reliable model under the three techniques for my dataset. Thank you for such a great year!"
   ]
  },
  {
   "cell_type": "markdown",
   "metadata": {},
   "source": [
    "##Project Writeup\n",
    "\n",
    "Requirements and Why I chose this option:\n",
    "\n",
    "Exploring Feature Space and Dimensionality Reduction - Do you need all the predictor\n",
    "variables/features you currently have? For some data set, explore how 2 - 3 dimensionality\n",
    "reduction techniques compare with each other... I chose this option because being new to ML, I had never previously learned about dimensionality reduction. Since this was a fresh topic to me, I thought it would be fun to have a fresh start.\n",
    "\n",
    "How did I begin the project:\n",
    "\n",
    "I began the project by first researching dimensionality reduction. I learned that essentially dimensionality reduction is used to reduce attributes of a dataset while keeping as much of the variation as possible. I then started to brainstorm and research different dimensionality reduction techniques to figure out which ones I wanted to use. Essentially, I chose LDA, TSNE, and PCA. PCA and LDA are linear methods and TSNE is a non-linear method. PCA turns a dataset of correlated variables into a dataset of a smaller number of uncorrelated variables while trying to maintain the greatest amount of variation within the dataset. LDA does something similar as PCA, but instead of using uncorrelated variables such as PCA, LDA finds a linear combination of input features that optimizes class separability. LDA also accounts for class labels while PCA does not. TSNE on the other hand is used more for data visualization. \n",
    "\n",
    "My Dataset:\n",
    "\n",
    "I recieved my dataset from Kaggle. The link to this is:\n",
    "https://www.kaggle.com/datasets/mlg-ulb/creditcardfraud\n",
    "The dataset contains credit card transactions made in September 2013 by European card holders. It contains only numerical input values. This is high-dimensional data which is why I chose to use it to perform my dimensionality reduction techniques. I needed to project the data into a lower-dimensional subspace.\n",
    "\n",
    "\n",
    "Details on my Implementation: \n",
    "I wrote in it Markdown above and I also write down Headers to take you through each step of my implementation. I hope you enjoy and thank you for teaching me so much this year when it was my first course in machine learning!\n",
    "\n",
    "\n",
    "\n"
   ]
  }
 ],
 "metadata": {
  "colab": {
   "name": "Updated Anomaly Detection.ipynb",
   "provenance": []
  },
  "kernelspec": {
   "display_name": "Python 3 (ipykernel)",
   "language": "python",
   "name": "python3"
  },
  "language_info": {
   "codemirror_mode": {
    "name": "ipython",
    "version": 3
   },
   "file_extension": ".py",
   "mimetype": "text/x-python",
   "name": "python",
   "nbconvert_exporter": "python",
   "pygments_lexer": "ipython3",
   "version": "3.9.7"
  }
 },
 "nbformat": 4,
 "nbformat_minor": 1
}
